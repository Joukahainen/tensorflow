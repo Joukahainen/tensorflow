{
 "cells": [
  {
   "cell_type": "markdown",
   "metadata": {},
   "source": [
    "## LSTM Close Price Prediction"
   ]
  },
  {
   "cell_type": "code",
   "execution_count": 1,
   "metadata": {},
   "outputs": [],
   "source": [
    "%matplotlib inline"
   ]
  },
  {
   "cell_type": "code",
   "execution_count": 2,
   "metadata": {},
   "outputs": [],
   "source": [
    "import sys\n",
    "assert sys.version_info >= (3, 5)\n",
    "\n"
   ]
  },
  {
   "cell_type": "code",
   "execution_count": 57,
   "metadata": {},
   "outputs": [],
   "source": [
    "import os"
   ]
  },
  {
   "cell_type": "code",
   "execution_count": 3,
   "metadata": {},
   "outputs": [],
   "source": [
    "from ml_analysis import MLOperator, MLEvaluator"
   ]
  },
  {
   "cell_type": "code",
   "execution_count": 4,
   "metadata": {},
   "outputs": [],
   "source": [
    "import numpy as np\n",
    "import pandas as pd\n",
    "import math\n",
    "import matplotlib.pyplot as plt\n",
    "import json\n",
    "from sklearn.metrics import f1_score"
   ]
  },
  {
   "cell_type": "code",
   "execution_count": 10,
   "metadata": {
    "pycharm": {
     "name": "#%%\n"
    }
   },
   "outputs": [],
   "source": [
    "import tensorflow as tf\n",
    "assert tf.__version__ >= \"2.0\"\n",
    "\n",
    "from tensorflow import keras\n",
    "\n",
    "import sklearn\n",
    "assert sklearn.__version__ >= \"0.20\"\n"
   ]
  },
  {
   "cell_type": "code",
   "execution_count": 54,
   "metadata": {},
   "outputs": [],
   "source": [
    "PROJECT_ROOT_PATH = '/home/arto/git/Dixon_LSTM/work'"
   ]
  },
  {
   "cell_type": "markdown",
   "metadata": {},
   "source": [
    "Loading the Pandas Dataframe, viewing the first ten rows and the distribution of the labels:"
   ]
  },
  {
   "cell_type": "code",
   "execution_count": 11,
   "metadata": {},
   "outputs": [],
   "source": [
    "df = pd.read_csv('data/HFT.csv')"
   ]
  },
  {
   "cell_type": "code",
   "execution_count": 12,
   "metadata": {},
   "outputs": [
    {
     "data": {
      "text/html": [
       "<div>\n",
       "<style scoped>\n",
       "    .dataframe tbody tr th:only-of-type {\n",
       "        vertical-align: middle;\n",
       "    }\n",
       "\n",
       "    .dataframe tbody tr th {\n",
       "        vertical-align: top;\n",
       "    }\n",
       "\n",
       "    .dataframe thead th {\n",
       "        text-align: right;\n",
       "    }\n",
       "</style>\n",
       "<table border=\"1\" class=\"dataframe\">\n",
       "  <thead>\n",
       "    <tr style=\"text-align: right;\">\n",
       "      <th></th>\n",
       "      <th>feature_1</th>\n",
       "      <th>feature_2</th>\n",
       "      <th>feature_3</th>\n",
       "      <th>label</th>\n",
       "    </tr>\n",
       "  </thead>\n",
       "  <tbody>\n",
       "    <tr>\n",
       "      <th>0</th>\n",
       "      <td>0.515301</td>\n",
       "      <td>0.72</td>\n",
       "      <td>0.710953</td>\n",
       "      <td>0</td>\n",
       "    </tr>\n",
       "    <tr>\n",
       "      <th>1</th>\n",
       "      <td>0.515301</td>\n",
       "      <td>0.72</td>\n",
       "      <td>0.710953</td>\n",
       "      <td>0</td>\n",
       "    </tr>\n",
       "    <tr>\n",
       "      <th>2</th>\n",
       "      <td>0.515301</td>\n",
       "      <td>0.72</td>\n",
       "      <td>0.710953</td>\n",
       "      <td>0</td>\n",
       "    </tr>\n",
       "    <tr>\n",
       "      <th>3</th>\n",
       "      <td>0.515301</td>\n",
       "      <td>0.72</td>\n",
       "      <td>0.710953</td>\n",
       "      <td>0</td>\n",
       "    </tr>\n",
       "    <tr>\n",
       "      <th>4</th>\n",
       "      <td>0.515301</td>\n",
       "      <td>0.72</td>\n",
       "      <td>0.710953</td>\n",
       "      <td>0</td>\n",
       "    </tr>\n",
       "  </tbody>\n",
       "</table>\n",
       "</div>"
      ],
      "text/plain": [
       "   feature_1  feature_2  feature_3  label\n",
       "0   0.515301       0.72   0.710953      0\n",
       "1   0.515301       0.72   0.710953      0\n",
       "2   0.515301       0.72   0.710953      0\n",
       "3   0.515301       0.72   0.710953      0\n",
       "4   0.515301       0.72   0.710953      0"
      ]
     },
     "execution_count": 12,
     "metadata": {},
     "output_type": "execute_result"
    }
   ],
   "source": [
    "df.head()"
   ]
  },
  {
   "cell_type": "code",
   "execution_count": 13,
   "metadata": {},
   "outputs": [
    {
     "data": {
      "text/plain": [
       "<matplotlib.axes._subplots.AxesSubplot at 0x7fef19d10438>"
      ]
     },
     "execution_count": 13,
     "metadata": {},
     "output_type": "execute_result"
    },
    {
     "data": {
      "image/png": "[encoded data removed]",
      "text/plain": [
       "<Figure size 432x288 with 1 Axes>"
      ]
     },
     "metadata": {
      "needs_background": "light"
     },
     "output_type": "display_data"
    }
   ],
   "source": [
    "df.label.hist()"
   ]
  },
  {
   "cell_type": "code",
   "execution_count": 14,
   "metadata": {
    "scrolled": true
   },
   "outputs": [
    {
     "data": {
      "text/plain": [
       " 0    1028280\n",
       " 1       2629\n",
       "-1       2623\n",
       "Name: label, dtype: int64"
      ]
     },
     "execution_count": 14,
     "metadata": {},
     "output_type": "execute_result"
    }
   ],
   "source": [
    "df.label.value_counts()"
   ]
  },
  {
   "cell_type": "markdown",
   "metadata": {},
   "source": [
    "We observe that there is a class imbalance problem. Proceeding without correcting for the imbalance will lead to spurious results. \n",
    "\n",
    "Our exposition includes examples of exploratory data analysis, designed to provide intuition into the level of non-linearity in the map $Y=F(X)$. Let's first view the distribution of our features by each label 0,-1, then 1. \n",
    "\n",
    "*Note: We just consider feature_1, but you should check the other features too.*"
   ]
  },
  {
   "cell_type": "code",
   "execution_count": 15,
   "metadata": {},
   "outputs": [
    {
     "name": "stdout",
     "output_type": "stream",
     "text": [
      "0\n"
     ]
    },
    {
     "data": {
      "image/png": "[encoded data removed]",
      "text/plain": [
       "<Figure size 432x288 with 1 Axes>"
      ]
     },
     "metadata": {
      "needs_background": "light"
     },
     "output_type": "display_data"
    },
    {
     "name": "stdout",
     "output_type": "stream",
     "text": [
      "-1\n"
     ]
    },
    {
     "data": {
      "image/png": "[encoded data removed]",
      "text/plain": [
       "<Figure size 432x288 with 1 Axes>"
      ]
     },
     "metadata": {
      "needs_background": "light"
     },
     "output_type": "display_data"
    },
    {
     "name": "stdout",
     "output_type": "stream",
     "text": [
      "1\n"
     ]
    },
    {
     "data": {
      "image/png": "[encoded data removed]",
      "text/plain": [
       "<Figure size 432x288 with 1 Axes>"
      ]
     },
     "metadata": {
      "needs_background": "light"
     },
     "output_type": "display_data"
    }
   ],
   "source": [
    "for lab in df.label.unique():\n",
    "    print(lab)\n",
    "    df.feature_1[df.label==lab].hist()\n",
    "    plt.show()\n",
    "    plt.close()"
   ]
  },
  {
   "cell_type": "markdown",
   "metadata": {
    "collapsed": true
   },
   "source": [
    "### Preparation of the training and testing sets"
   ]
  },
  {
   "cell_type": "markdown",
   "metadata": {},
   "source": [
    "We use a simple 80/20 splitting rule, ensuring that the training set pre-dates the testing set (to avoid look-ahead bias)."
   ]
  },
  {
   "cell_type": "code",
   "execution_count": 16,
   "metadata": {},
   "outputs": [],
   "source": [
    "train_weight = 0.8\n",
    "split = int(len(df)*train_weight)\n",
    "df_train = df[:split]\n",
    "df_test = df[split:]"
   ]
  },
  {
   "cell_type": "markdown",
   "metadata": {},
   "source": [
    "Let's instantiate our MLOperator class which will be used for performing high-level data processing tasks on top of Keras."
   ]
  },
  {
   "cell_type": "code",
   "execution_count": 17,
   "metadata": {},
   "outputs": [],
   "source": [
    "operator = MLOperator()"
   ]
  },
  {
   "cell_type": "markdown",
   "metadata": {},
   "source": [
    "### Sampling\n",
    "\n",
    "**Training Set**: Resolve the time series class imbalance problem by sampling in a neighborhood of the up and down ticks. We choose this neighborhood to be a lagging window of size 20. Although simplistic, this preserves at least some of the covariance structure in the time series data.\n",
    "\n",
    "**Testing Set**: Do not sample - leave imbalanced."
   ]
  },
  {
   "cell_type": "code",
   "execution_count": 18,
   "metadata": {},
   "outputs": [],
   "source": [
    "n_steps = 20\n",
    "use_features = ['feature_1']\n",
    "y_train = df_train.label"
   ]
  },
  {
   "cell_type": "code",
   "execution_count": 19,
   "metadata": {},
   "outputs": [],
   "source": [
    "sampled_idx = operator.get_samples_index(y_train.iloc[n_steps-1:], 'min')"
   ]
  },
  {
   "cell_type": "code",
   "execution_count": 20,
   "metadata": {},
   "outputs": [],
   "source": [
    "x_train = df_train[use_features]\n",
    "y_test = df_test.label.iloc[n_steps-1:]\n",
    "x_test = df_test[use_features]"
   ]
  },
  {
   "cell_type": "markdown",
   "metadata": {},
   "source": [
    "### Data formatting for LSTMs"
   ]
  },
  {
   "cell_type": "markdown",
   "metadata": {},
   "source": [
    "Let's define the following function for reshaping the data into times series classification format. For example, consider a univariate time series of increasing integers"
   ]
  },
  {
   "cell_type": "markdown",
   "metadata": {},
   "source": [
    "1 2 3 4 5 6 7 8 9 10 11 12 13 14 15"
   ]
  },
  {
   "cell_type": "markdown",
   "metadata": {},
   "source": [
    "Setting the sequence length to 10, we move the window forward by one observation at a time and construct new sequences:\n",
    "\n",
    "1 2 3 4 5 6 7 8 9 10\n",
    "\n",
    "2 3 4 5 6 7 8 9 10 11\n",
    "\n",
    "3 4 5 6 7 8 9 10 11 12\n",
    "\n",
    "4 5 6 7 8 9 10 11 12 13\n",
    "\n",
    "5 6 7 8 9 10 11 12 13 14\n",
    "\n",
    "6 7 8 9 10 11 12 13 14 15"
   ]
  },
  {
   "cell_type": "code",
   "execution_count": 31,
   "metadata": {},
   "outputs": [],
   "source": [
    "def get_LSTM_data(x_train, y_train, x_test, y_test, sampled_idx, n_steps):\n",
    "    # training set\n",
    "    x_train_m = x_train.values\n",
    "    x_train_list = []\n",
    "    for idx in sampled_idx:\n",
    "        int_idx = y_train.index.get_loc(idx)\n",
    "        x_train_list.append(x_train_m[(int_idx-n_steps+1):int_idx+1])\n",
    "\n",
    "    x_train = np.array(x_train_list)\n",
    "    y_train = pd.get_dummies(y_train[sampled_idx]).values\n",
    "\n",
    "    # test set\n",
    "    x_test_m = x_test.values\n",
    "    x_test_list = []\n",
    "    for i in range(x_test.shape[0] - n_steps+1):\n",
    "        x_test_list.append(x_test_m[i: (i + n_steps)])\n",
    "    x_test = np.array(x_test_list)\n",
    "\n",
    "    y_test = pd.get_dummies(y_test).values\n",
    "    \n",
    "    return x_train, y_train, x_test, y_test"
   ]
  },
  {
   "cell_type": "code",
   "execution_count": 32,
   "metadata": {
    "scrolled": true
   },
   "outputs": [],
   "source": [
    "x_train, y_train, x_test, y_test = get_LSTM_data(x_train, y_train, x_test, y_test, sampled_idx, n_steps)"
   ]
  },
  {
   "cell_type": "code",
   "execution_count": 33,
   "metadata": {},
   "outputs": [],
   "source": [
    "nrow = 3000\n",
    "x_valid = x_test[0:nrow]\n",
    "y_valid = y_test[0:nrow]\n",
    "x_test = x_test[nrow:]\n",
    "y_test = y_test[nrow:]"
   ]
  },
  {
   "cell_type": "code",
   "execution_count": 34,
   "metadata": {
    "scrolled": true
   },
   "outputs": [
    {
     "name": "stdout",
     "output_type": "stream",
     "text": [
      "(6294, 20, 1) (6294, 3) (200688, 20, 1) (200688, 3) (3000, 20, 1) (3000, 3)\n"
     ]
    }
   ],
   "source": [
    "print(x_train.shape,y_train.shape,x_test.shape,y_test.shape, x_valid.shape, y_valid.shape)"
   ]
  },
  {
   "cell_type": "markdown",
   "metadata": {},
   "source": [
    "## LSTM Model Specification\n",
    "\n",
    "We now proceed with the model specification in Keras. Consistent with the window size, we specify a ten layer LSTM network and squash each unit output with a softmax function."
   ]
  },
  {
   "cell_type": "code",
   "execution_count": 36,
   "metadata": {},
   "outputs": [],
   "source": [
    "model = keras.models.Sequential()\n",
    "model.add(keras.layers.LSTM(10, stateful=False, input_shape=(x_train.shape[1], x_train.shape[-1])))\n",
    "model.add(keras.layers.Dense(y_train.shape[1], activation='softmax'))"
   ]
  },
  {
   "cell_type": "code",
   "execution_count": 37,
   "metadata": {},
   "outputs": [],
   "source": [
    "# Configurations\n",
    "initial_lrate = 0.0001"
   ]
  },
  {
   "cell_type": "code",
   "execution_count": 40,
   "metadata": {},
   "outputs": [],
   "source": [
    "adagrad = keras.optimizers.Adagrad(lr=initial_lrate, epsilon=1e-08, decay=0.0)\n",
    "adam = keras.optimizers.Adam(lr=0.0001, beta_1=0.9, beta_2=0.999, epsilon=1e-08, decay=0.0)"
   ]
  },
  {
   "cell_type": "code",
   "execution_count": 41,
   "metadata": {},
   "outputs": [],
   "source": [
    "callbacks_list = list()"
   ]
  },
  {
   "cell_type": "code",
   "execution_count": 42,
   "metadata": {},
   "outputs": [],
   "source": [
    "# learning rate schedule\n",
    "# LearningRate = InitialLearningRate * DropRate^floor(Epoch / EpochDrop)\n",
    "# Or: decrease half of the learning rate after every epochs_drop (20 epochs for example)\n",
    "def step_decay(epoch):\n",
    "    lrate = initial_lrate\n",
    "    epochs_drop = 70\n",
    "    drop = 0.5\n",
    "    if (epoch % epochs_drop == 0):\n",
    "        lrate = initial_lrate * math.pow(drop, math.floor((1+epoch)/epochs_drop))\n",
    "        print(\"Decreased Learning Rate to: {}\".format(lrate))\n",
    "    return lrate"
   ]
  },
  {
   "cell_type": "code",
   "execution_count": 45,
   "metadata": {},
   "outputs": [],
   "source": [
    "lrate = keras.callbacks.LearningRateScheduler(step_decay)"
   ]
  },
  {
   "cell_type": "code",
   "execution_count": 46,
   "metadata": {},
   "outputs": [],
   "source": [
    "callbacks_list.append(lrate)"
   ]
  },
  {
   "cell_type": "code",
   "execution_count": 47,
   "metadata": {},
   "outputs": [],
   "source": [
    "model.compile(loss='categorical_crossentropy', optimizer=adam, metrics=['accuracy'])"
   ]
  },
  {
   "cell_type": "code",
   "execution_count": 48,
   "metadata": {},
   "outputs": [],
   "source": [
    "# initial settings\n",
    "n_epoch = 20\n",
    "n_batch = 500\n",
    "last_epoch_th = 0"
   ]
  },
  {
   "cell_type": "code",
   "execution_count": 49,
   "metadata": {},
   "outputs": [
    {
     "name": "stdout",
     "output_type": "stream",
     "text": [
      "Train on 6294 samples, validate on 3000 samples\n",
      "Decreased Learning Rate to: 0.0001\n",
      "Epoch 1/20\n",
      "6294/6294 [==============================] - 4s 709us/sample - loss: 1.0707 - accuracy: 0.3379 - val_loss: 1.1234 - val_accuracy: 0.0153\n",
      "Epoch 2/20\n",
      "6294/6294 [==============================] - 1s 108us/sample - loss: 1.0684 - accuracy: 0.3557 - val_loss: 1.1200 - val_accuracy: 0.0300\n",
      "Epoch 3/20\n",
      "6294/6294 [==============================] - 1s 130us/sample - loss: 1.0660 - accuracy: 0.3743 - val_loss: 1.1164 - val_accuracy: 0.0433\n",
      "Epoch 4/20\n",
      "6294/6294 [==============================] - 1s 144us/sample - loss: 1.0637 - accuracy: 0.3901 - val_loss: 1.1127 - val_accuracy: 0.0800\n",
      "Epoch 5/20\n",
      "6294/6294 [==============================] - 1s 124us/sample - loss: 1.0614 - accuracy: 0.4126 - val_loss: 1.1096 - val_accuracy: 0.0933\n",
      "Epoch 6/20\n",
      "6294/6294 [==============================] - 1s 150us/sample - loss: 1.0590 - accuracy: 0.4347 - val_loss: 1.1061 - val_accuracy: 0.0973\n",
      "Epoch 7/20\n",
      "6294/6294 [==============================] - 1s 145us/sample - loss: 1.0566 - accuracy: 0.4546 - val_loss: 1.1038 - val_accuracy: 0.0910\n",
      "Epoch 8/20\n",
      "6294/6294 [==============================] - 1s 148us/sample - loss: 1.0543 - accuracy: 0.4693 - val_loss: 1.1003 - val_accuracy: 0.0880\n",
      "Epoch 9/20\n",
      "6294/6294 [==============================] - 1s 121us/sample - loss: 1.0519 - accuracy: 0.4830 - val_loss: 1.0974 - val_accuracy: 0.0667\n",
      "Epoch 10/20\n",
      "6294/6294 [==============================] - 1s 130us/sample - loss: 1.0494 - accuracy: 0.4968 - val_loss: 1.0950 - val_accuracy: 0.0600\n",
      "Epoch 11/20\n",
      "6294/6294 [==============================] - 1s 143us/sample - loss: 1.0469 - accuracy: 0.5035 - val_loss: 1.0927 - val_accuracy: 0.0503\n",
      "Epoch 12/20\n",
      "6294/6294 [==============================] - 1s 116us/sample - loss: 1.0444 - accuracy: 0.5113 - val_loss: 1.0902 - val_accuracy: 0.0587\n",
      "Epoch 13/20\n",
      "6294/6294 [==============================] - 1s 91us/sample - loss: 1.0419 - accuracy: 0.5199 - val_loss: 1.0879 - val_accuracy: 0.0687\n",
      "Epoch 14/20\n",
      "6294/6294 [==============================] - 1s 127us/sample - loss: 1.0393 - accuracy: 0.5241 - val_loss: 1.0861 - val_accuracy: 0.0723\n",
      "Epoch 15/20\n",
      "6294/6294 [==============================] - 1s 142us/sample - loss: 1.0366 - accuracy: 0.5281 - val_loss: 1.0839 - val_accuracy: 0.0800\n",
      "Epoch 16/20\n",
      "6294/6294 [==============================] - 1s 111us/sample - loss: 1.0340 - accuracy: 0.5313 - val_loss: 1.0820 - val_accuracy: 0.0890\n",
      "Epoch 17/20\n",
      "6294/6294 [==============================] - 1s 88us/sample - loss: 1.0312 - accuracy: 0.5377 - val_loss: 1.0798 - val_accuracy: 0.0980\n",
      "Epoch 18/20\n",
      "6294/6294 [==============================] - 1s 111us/sample - loss: 1.0284 - accuracy: 0.5410 - val_loss: 1.0785 - val_accuracy: 0.1087\n",
      "Epoch 19/20\n",
      "6294/6294 [==============================] - 1s 117us/sample - loss: 1.0256 - accuracy: 0.5427 - val_loss: 1.0766 - val_accuracy: 0.1237\n",
      "Epoch 20/20\n",
      "6294/6294 [==============================] - 1s 116us/sample - loss: 1.0227 - accuracy: 0.5456 - val_loss: 1.0749 - val_accuracy: 0.1660\n",
      "CPU times: user 33.4 s, sys: 33.1 s, total: 1min 6s\n",
      "Wall time: 19.5 s\n"
     ]
    }
   ],
   "source": [
    "%%time\n",
    "history = model.fit(x_train, y_train, epochs=n_epoch, batch_size=n_batch, verbose=1,\n",
    "          validation_data=(x_valid, y_valid), shuffle=True, callbacks = callbacks_list, \n",
    "                    initial_epoch = last_epoch_th)"
   ]
  },
  {
   "cell_type": "markdown",
   "metadata": {},
   "source": [
    "### Serialization\n",
    "If no further adjustments to the training are needed then we can save the model to HDF5 format and simply reload it in future notebook sessions. "
   ]
  },
  {
   "cell_type": "code",
   "execution_count": 58,
   "metadata": {},
   "outputs": [],
   "source": [
    "# save the model\n",
    "model_path = os.path.join(PROJECT_ROOT_PATH, 'model_lstm.hdf5')\n",
    "model.save(model_path, overwrite=True)  # creates a HDF5 file 'my_model.h5'"
   ]
  },
  {
   "cell_type": "code",
   "execution_count": 59,
   "metadata": {},
   "outputs": [],
   "source": [
    "hist = history.history"
   ]
  },
  {
   "cell_type": "code",
   "execution_count": 61,
   "metadata": {},
   "outputs": [],
   "source": [
    "history_path = os.path.join(PROJECT_ROOT_PATH, 'history')\n",
    "\n",
    "np.save(history_path, hist)\n",
    "\n"
   ]
  },
  {
   "cell_type": "markdown",
   "metadata": {},
   "source": [
    "## Prediction"
   ]
  },
  {
   "cell_type": "code",
   "execution_count": 62,
   "metadata": {},
   "outputs": [
    {
     "ename": "NameError",
     "evalue": "name 'load_model' is not defined",
     "output_type": "error",
     "traceback": [
      "\u001b[0;31m---------------------------------------------------------------------------\u001b[0m",
      "\u001b[0;31mNameError\u001b[0m                                 Traceback (most recent call last)",
      "\u001b[0;32m<ipython-input-62-b00bd7aa869d>\u001b[0m in \u001b[0;36m<module>\u001b[0;34m\u001b[0m\n\u001b[1;32m      1\u001b[0m \u001b[0;31m# returns a compiled model\u001b[0m\u001b[0;34m\u001b[0m\u001b[0;34m\u001b[0m\u001b[0;34m\u001b[0m\u001b[0m\n\u001b[1;32m      2\u001b[0m \u001b[0;31m# identical to the previous one\u001b[0m\u001b[0;34m\u001b[0m\u001b[0;34m\u001b[0m\u001b[0;34m\u001b[0m\u001b[0m\n\u001b[0;32m----> 3\u001b[0;31m \u001b[0mmodel\u001b[0m \u001b[0;34m=\u001b[0m \u001b[0mload_model\u001b[0m\u001b[0;34m(\u001b[0m\u001b[0;34m'model/lstm.hdf5'\u001b[0m\u001b[0;34m)\u001b[0m\u001b[0;34m\u001b[0m\u001b[0;34m\u001b[0m\u001b[0m\n\u001b[0m",
      "\u001b[0;31mNameError\u001b[0m: name 'load_model' is not defined"
     ]
    }
   ],
   "source": [
    "# returns a compiled model\n",
    "# identical to the previous one\n",
    "model = load_model('model/lstm.hdf5')"
   ]
  },
  {
   "cell_type": "code",
   "execution_count": 52,
   "metadata": {
    "scrolled": true
   },
   "outputs": [
    {
     "name": "stdout",
     "output_type": "stream",
     "text": [
      "CPU times: user 57.3 s, sys: 1min 3s, total: 2min 1s\n",
      "Wall time: 31.2 s\n"
     ]
    }
   ],
   "source": [
    "%%time\n",
    "pred_df_train, pred_df_test, _ = operator.get_pred_dfs(x_train, x_test, y_train, y_test, \n",
    "                                                       classifier='tensorflow', model=model, \n",
    "                                                       columns=['-1', '0', '1'])"
   ]
  },
  {
   "cell_type": "code",
   "execution_count": 53,
   "metadata": {},
   "outputs": [
    {
     "name": "stdout",
     "output_type": "stream",
     "text": [
      "[0.66597132 0.15426997 0.63329041]\n",
      "[0.02127738 0.16353439 0.00586791]\n"
     ]
    }
   ],
   "source": [
    "train_f1 = f1_score(pred_df_train.true, pred_df_train.predict, average=None)\n",
    "test_f1 = f1_score(pred_df_test.true, pred_df_test.predict, average=None)\n",
    "print(train_f1)\n",
    "print(test_f1)"
   ]
  },
  {
   "cell_type": "markdown",
   "metadata": {},
   "source": [
    "## Model Evaluation"
   ]
  },
  {
   "cell_type": "markdown",
   "metadata": {},
   "source": [
    "We instantiate our MLEvaluator class to store the performance results of the classifier."
   ]
  },
  {
   "cell_type": "code",
   "execution_count": 63,
   "metadata": {},
   "outputs": [],
   "source": [
    "evaluator = MLEvaluator()"
   ]
  },
  {
   "cell_type": "code",
   "execution_count": 64,
   "metadata": {},
   "outputs": [
    {
     "ename": "AttributeError",
     "evalue": "'MLEvaluator' object has no attribute 'plot_confusion_matrix'",
     "output_type": "error",
     "traceback": [
      "\u001b[0;31m---------------------------------------------------------------------------\u001b[0m",
      "\u001b[0;31mAttributeError\u001b[0m                            Traceback (most recent call last)",
      "\u001b[0;32m<ipython-input-64-f25f297bf382>\u001b[0m in \u001b[0;36m<module>\u001b[0;34m\u001b[0m\n\u001b[1;32m      2\u001b[0m \u001b[0mcf_mx_train\u001b[0m \u001b[0;34m=\u001b[0m \u001b[0mevaluator\u001b[0m\u001b[0;34m.\u001b[0m\u001b[0mgenerate_confusion_matrix\u001b[0m\u001b[0;34m(\u001b[0m\u001b[0;34m)\u001b[0m\u001b[0;34m\u001b[0m\u001b[0;34m\u001b[0m\u001b[0m\n\u001b[1;32m      3\u001b[0m \u001b[0;34m\u001b[0m\u001b[0m\n\u001b[0;32m----> 4\u001b[0;31m \u001b[0mfig\u001b[0m \u001b[0;34m=\u001b[0m \u001b[0mevaluator\u001b[0m\u001b[0;34m.\u001b[0m\u001b[0mplot_confusion_matrix\u001b[0m\u001b[0;34m(\u001b[0m\u001b[0mcf_mx_train\u001b[0m\u001b[0;34m.\u001b[0m\u001b[0mvalues\u001b[0m\u001b[0;34m(\u001b[0m\u001b[0;34m)\u001b[0m\u001b[0;34m,\u001b[0m \u001b[0;34m[\u001b[0m\u001b[0;34m-\u001b[0m\u001b[0;36m1\u001b[0m\u001b[0;34m,\u001b[0m \u001b[0;36m0\u001b[0m\u001b[0;34m,\u001b[0m \u001b[0;36m1\u001b[0m\u001b[0;34m]\u001b[0m\u001b[0;34m)\u001b[0m\u001b[0;34m\u001b[0m\u001b[0;34m\u001b[0m\u001b[0m\n\u001b[0m\u001b[1;32m      5\u001b[0m fig = evaluator.plot_confusion_matrix(cf_mx_train.values(), [-1, 0, 1], \n\u001b[1;32m      6\u001b[0m     normalize=True)\n",
      "\u001b[0;31mAttributeError\u001b[0m: 'MLEvaluator' object has no attribute 'plot_confusion_matrix'"
     ]
    }
   ],
   "source": [
    "evaluator.set_pred_df(pred_df_train)\n",
    "cf_mx_train = evaluator.generate_confusion_matrix()\n",
    "\n",
    "fig = evaluator.plot_confusion_matrix(cf_mx_train.values(), [-1, 0, 1])\n",
    "fig = evaluator.plot_confusion_matrix(cf_mx_train.values(), [-1, 0, 1], \n",
    "    normalize=True)\n",
    "fig = evaluator.plot_roc()"
   ]
  },
  {
   "cell_type": "code",
   "execution_count": 65,
   "metadata": {},
   "outputs": [
    {
     "ename": "AttributeError",
     "evalue": "'MLEvaluator' object has no attribute 'plot_confusion_matrix'",
     "output_type": "error",
     "traceback": [
      "\u001b[0;31m---------------------------------------------------------------------------\u001b[0m",
      "\u001b[0;31mAttributeError\u001b[0m                            Traceback (most recent call last)",
      "\u001b[0;32m<ipython-input-65-f77403a3b71f>\u001b[0m in \u001b[0;36m<module>\u001b[0;34m\u001b[0m\n\u001b[1;32m      2\u001b[0m \u001b[0mcf_mx_test\u001b[0m \u001b[0;34m=\u001b[0m \u001b[0mevaluator\u001b[0m\u001b[0;34m.\u001b[0m\u001b[0mgenerate_confusion_matrix\u001b[0m\u001b[0;34m(\u001b[0m\u001b[0;34m)\u001b[0m\u001b[0;34m\u001b[0m\u001b[0;34m\u001b[0m\u001b[0m\n\u001b[1;32m      3\u001b[0m \u001b[0;34m\u001b[0m\u001b[0m\n\u001b[0;32m----> 4\u001b[0;31m \u001b[0mfig\u001b[0m \u001b[0;34m=\u001b[0m \u001b[0mevaluator\u001b[0m\u001b[0;34m.\u001b[0m\u001b[0mplot_confusion_matrix\u001b[0m\u001b[0;34m(\u001b[0m\u001b[0mcf_mx_test\u001b[0m\u001b[0;34m.\u001b[0m\u001b[0mvalues\u001b[0m\u001b[0;34m(\u001b[0m\u001b[0;34m)\u001b[0m\u001b[0;34m,\u001b[0m \u001b[0;34m[\u001b[0m\u001b[0;34m-\u001b[0m\u001b[0;36m1\u001b[0m\u001b[0;34m,\u001b[0m \u001b[0;36m0\u001b[0m\u001b[0;34m,\u001b[0m \u001b[0;36m1\u001b[0m\u001b[0;34m]\u001b[0m\u001b[0;34m)\u001b[0m\u001b[0;34m\u001b[0m\u001b[0;34m\u001b[0m\u001b[0m\n\u001b[0m\u001b[1;32m      5\u001b[0m fig = evaluator.plot_confusion_matrix(cf_mx_test.values(), [-1, 0, 1], \n\u001b[1;32m      6\u001b[0m     normalize=True)\n",
      "\u001b[0;31mAttributeError\u001b[0m: 'MLEvaluator' object has no attribute 'plot_confusion_matrix'"
     ]
    }
   ],
   "source": [
    "evaluator.set_pred_df(pred_df_test)\n",
    "cf_mx_test = evaluator.generate_confusion_matrix()\n",
    "\n",
    "fig = evaluator.plot_confusion_matrix(cf_mx_test.values(), [-1, 0, 1])\n",
    "fig = evaluator.plot_confusion_matrix(cf_mx_test.values(), [-1, 0, 1], \n",
    "    normalize=True)\n",
    "fig = evaluator.plot_roc()"
   ]
  },
  {
   "cell_type": "markdown",
   "metadata": {
    "collapsed": true
   },
   "source": [
    "##  Learning Curves"
   ]
  },
  {
   "cell_type": "markdown",
   "metadata": {},
   "source": [
    "We seek to evaluate the bias-variance tradeoff as a function of the size of the training set. This can address the question of whether the sample size is 'sufficient' for our classifier - we expect the performance on the test set to converge to that on the training set with increasing sample size."
   ]
  },
  {
   "cell_type": "code",
   "execution_count": 66,
   "metadata": {},
   "outputs": [],
   "source": [
    "y_train_bvt = df_train.label\n",
    "x_train_bvt = df_train[use_features]\n",
    "y_test_bvt = df_test.label.iloc[n_steps-1:]\n",
    "x_test_bvt = df_test[use_features]"
   ]
  },
  {
   "cell_type": "code",
   "execution_count": 68,
   "metadata": {},
   "outputs": [
    {
     "name": "stdout",
     "output_type": "stream",
     "text": [
      "range(100, 2098, 300)\n"
     ]
    }
   ],
   "source": [
    "n_exp = 1\n",
    "n_obs_list = range(100, int(len(sampled_idx)/3), 300)\n",
    "print(n_obs_list)\n",
    "\n",
    "# initial settings\n",
    "n_epoch = 20\n",
    "n_batch = 500\n",
    "last_epoch_th = 0"
   ]
  },
  {
   "cell_type": "code",
   "execution_count": 69,
   "metadata": {},
   "outputs": [],
   "source": [
    "f1_df_list = []"
   ]
  },
  {
   "cell_type": "code",
   "execution_count": 70,
   "metadata": {},
   "outputs": [],
   "source": [
    "bvt_callbacks_list = list()\n",
    "bvt_callbacks_list.append(lrate)"
   ]
  },
  {
   "cell_type": "code",
   "execution_count": 71,
   "metadata": {},
   "outputs": [
    {
     "name": "stdout",
     "output_type": "stream",
     "text": [
      "experiment  0\n",
      "number of observations  100\n",
      "300\n",
      "(300, 20, 1) (300, 3) (206688, 20, 1) (206688, 3)\n",
      "Train on 300 samples\n",
      "Decreased Learning Rate to: 0.0001\n",
      "Epoch 1/20\n",
      "300/300 - 0s - loss: 1.0129 - accuracy: 0.5600\n",
      "Epoch 2/20\n",
      "300/300 - 0s - loss: 1.0127 - accuracy: 0.5600\n",
      "Epoch 3/20\n",
      "300/300 - 0s - loss: 1.0124 - accuracy: 0.5600\n",
      "Epoch 4/20\n",
      "300/300 - 0s - loss: 1.0121 - accuracy: 0.5600\n",
      "Epoch 5/20\n",
      "300/300 - 0s - loss: 1.0119 - accuracy: 0.5633\n",
      "Epoch 6/20\n",
      "300/300 - 0s - loss: 1.0116 - accuracy: 0.5567\n",
      "Epoch 7/20\n",
      "300/300 - 0s - loss: 1.0113 - accuracy: 0.5567\n",
      "Epoch 8/20\n",
      "300/300 - 0s - loss: 1.0110 - accuracy: 0.5567\n",
      "Epoch 9/20\n",
      "300/300 - 0s - loss: 1.0107 - accuracy: 0.5567\n",
      "Epoch 10/20\n",
      "300/300 - 0s - loss: 1.0105 - accuracy: 0.5567\n",
      "Epoch 11/20\n",
      "300/300 - 0s - loss: 1.0102 - accuracy: 0.5567\n",
      "Epoch 12/20\n",
      "300/300 - 0s - loss: 1.0099 - accuracy: 0.5567\n",
      "Epoch 13/20\n",
      "300/300 - 0s - loss: 1.0096 - accuracy: 0.5567\n",
      "Epoch 14/20\n",
      "300/300 - 0s - loss: 1.0093 - accuracy: 0.5567\n",
      "Epoch 15/20\n",
      "300/300 - 0s - loss: 1.0090 - accuracy: 0.5567\n",
      "Epoch 16/20\n",
      "300/300 - 0s - loss: 1.0087 - accuracy: 0.5567\n",
      "Epoch 17/20\n",
      "300/300 - 0s - loss: 1.0084 - accuracy: 0.5600\n",
      "Epoch 18/20\n",
      "300/300 - 0s - loss: 1.0081 - accuracy: 0.5567\n",
      "Epoch 19/20\n",
      "300/300 - 0s - loss: 1.0078 - accuracy: 0.5567\n",
      "Epoch 20/20\n",
      "300/300 - 0s - loss: 1.0076 - accuracy: 0.5533\n",
      "number of observations  400\n",
      "1200\n",
      "(1200, 20, 1) (1200, 3) (206688, 20, 1) (206688, 3)\n",
      "Train on 1200 samples\n",
      "Decreased Learning Rate to: 0.0001\n",
      "Epoch 1/20\n",
      "1200/1200 - 0s - loss: 1.0132 - accuracy: 0.5592\n",
      "Epoch 2/20\n",
      "1200/1200 - 0s - loss: 1.0124 - accuracy: 0.5600\n",
      "Epoch 3/20\n",
      "1200/1200 - 0s - loss: 1.0116 - accuracy: 0.5617\n",
      "Epoch 4/20\n",
      "1200/1200 - 0s - loss: 1.0108 - accuracy: 0.5625\n",
      "Epoch 5/20\n",
      "1200/1200 - 0s - loss: 1.0100 - accuracy: 0.5625\n",
      "Epoch 6/20\n",
      "1200/1200 - 0s - loss: 1.0092 - accuracy: 0.5633\n",
      "Epoch 7/20\n",
      "1200/1200 - 0s - loss: 1.0084 - accuracy: 0.5650\n",
      "Epoch 8/20\n",
      "1200/1200 - 0s - loss: 1.0076 - accuracy: 0.5658\n",
      "Epoch 9/20\n",
      "1200/1200 - 0s - loss: 1.0068 - accuracy: 0.5667\n",
      "Epoch 10/20\n",
      "1200/1200 - 0s - loss: 1.0060 - accuracy: 0.5658\n",
      "Epoch 11/20\n",
      "1200/1200 - 0s - loss: 1.0053 - accuracy: 0.5658\n",
      "Epoch 12/20\n",
      "1200/1200 - 0s - loss: 1.0045 - accuracy: 0.5667\n",
      "Epoch 13/20\n",
      "1200/1200 - 0s - loss: 1.0037 - accuracy: 0.5667\n",
      "Epoch 14/20\n",
      "1200/1200 - 0s - loss: 1.0029 - accuracy: 0.5675\n",
      "Epoch 15/20\n",
      "1200/1200 - 0s - loss: 1.0021 - accuracy: 0.5683\n",
      "Epoch 16/20\n",
      "1200/1200 - 0s - loss: 1.0014 - accuracy: 0.5692\n",
      "Epoch 17/20\n",
      "1200/1200 - 0s - loss: 1.0006 - accuracy: 0.5683\n",
      "Epoch 18/20\n",
      "1200/1200 - 0s - loss: 0.9998 - accuracy: 0.5683\n",
      "Epoch 19/20\n",
      "1200/1200 - 0s - loss: 0.9990 - accuracy: 0.5700\n",
      "Epoch 20/20\n",
      "1200/1200 - 0s - loss: 0.9982 - accuracy: 0.5717\n",
      "number of observations  700\n",
      "2100\n",
      "(2100, 20, 1) (2100, 3) (206688, 20, 1) (206688, 3)\n",
      "Train on 2100 samples\n",
      "Decreased Learning Rate to: 0.0001\n",
      "Epoch 1/20\n",
      "2100/2100 - 0s - loss: 1.0014 - accuracy: 0.5690\n",
      "Epoch 2/20\n",
      "2100/2100 - 0s - loss: 1.0001 - accuracy: 0.5690\n",
      "Epoch 3/20\n",
      "2100/2100 - 0s - loss: 0.9989 - accuracy: 0.5676\n",
      "Epoch 4/20\n",
      "2100/2100 - 0s - loss: 0.9976 - accuracy: 0.5700\n",
      "Epoch 5/20\n",
      "2100/2100 - 0s - loss: 0.9964 - accuracy: 0.5695\n",
      "Epoch 6/20\n",
      "2100/2100 - 0s - loss: 0.9952 - accuracy: 0.5700\n",
      "Epoch 7/20\n",
      "2100/2100 - 0s - loss: 0.9939 - accuracy: 0.5705\n",
      "Epoch 8/20\n",
      "2100/2100 - 0s - loss: 0.9926 - accuracy: 0.5690\n",
      "Epoch 9/20\n",
      "2100/2100 - 0s - loss: 0.9914 - accuracy: 0.5705\n",
      "Epoch 10/20\n",
      "2100/2100 - 0s - loss: 0.9901 - accuracy: 0.5710\n",
      "Epoch 11/20\n",
      "2100/2100 - 0s - loss: 0.9889 - accuracy: 0.5714\n",
      "Epoch 12/20\n",
      "2100/2100 - 0s - loss: 0.9876 - accuracy: 0.5705\n",
      "Epoch 13/20\n",
      "2100/2100 - 0s - loss: 0.9864 - accuracy: 0.5686\n",
      "Epoch 14/20\n",
      "2100/2100 - 0s - loss: 0.9851 - accuracy: 0.5695\n",
      "Epoch 15/20\n",
      "2100/2100 - 0s - loss: 0.9838 - accuracy: 0.5719\n",
      "Epoch 16/20\n",
      "2100/2100 - 0s - loss: 0.9826 - accuracy: 0.5757\n",
      "Epoch 17/20\n",
      "2100/2100 - 0s - loss: 0.9814 - accuracy: 0.5762\n",
      "Epoch 18/20\n",
      "2100/2100 - 0s - loss: 0.9801 - accuracy: 0.5762\n",
      "Epoch 19/20\n",
      "2100/2100 - 0s - loss: 0.9788 - accuracy: 0.5757\n",
      "Epoch 20/20\n",
      "2100/2100 - 0s - loss: 0.9776 - accuracy: 0.5748\n",
      "number of observations  1000\n",
      "3000\n",
      "(3000, 20, 1) (3000, 3) (206688, 20, 1) (206688, 3)\n",
      "Train on 3000 samples\n",
      "Decreased Learning Rate to: 0.0001\n",
      "Epoch 1/20\n",
      "3000/3000 - 2s - loss: 0.9762 - accuracy: 0.5643\n",
      "Epoch 2/20\n",
      "3000/3000 - 0s - loss: 0.9747 - accuracy: 0.5640\n",
      "Epoch 3/20\n",
      "3000/3000 - 0s - loss: 0.9733 - accuracy: 0.5630\n",
      "Epoch 4/20\n",
      "3000/3000 - 0s - loss: 0.9718 - accuracy: 0.5603\n",
      "Epoch 5/20\n",
      "3000/3000 - 0s - loss: 0.9703 - accuracy: 0.5620\n",
      "Epoch 6/20\n",
      "3000/3000 - 0s - loss: 0.9689 - accuracy: 0.5603\n",
      "Epoch 7/20\n",
      "3000/3000 - 0s - loss: 0.9674 - accuracy: 0.5620\n",
      "Epoch 8/20\n",
      "3000/3000 - 0s - loss: 0.9660 - accuracy: 0.5647\n",
      "Epoch 9/20\n",
      "3000/3000 - 0s - loss: 0.9645 - accuracy: 0.5657\n",
      "Epoch 10/20\n",
      "3000/3000 - 0s - loss: 0.9631 - accuracy: 0.5670\n",
      "Epoch 11/20\n",
      "3000/3000 - 0s - loss: 0.9617 - accuracy: 0.5680\n",
      "Epoch 12/20\n",
      "3000/3000 - 0s - loss: 0.9603 - accuracy: 0.5707\n",
      "Epoch 13/20\n",
      "3000/3000 - 0s - loss: 0.9589 - accuracy: 0.5720\n",
      "Epoch 14/20\n",
      "3000/3000 - 0s - loss: 0.9575 - accuracy: 0.5723\n",
      "Epoch 15/20\n",
      "3000/3000 - 0s - loss: 0.9562 - accuracy: 0.5737\n",
      "Epoch 16/20\n",
      "3000/3000 - 0s - loss: 0.9549 - accuracy: 0.5733\n",
      "Epoch 17/20\n",
      "3000/3000 - 0s - loss: 0.9536 - accuracy: 0.5750\n",
      "Epoch 18/20\n",
      "3000/3000 - 0s - loss: 0.9523 - accuracy: 0.5783\n",
      "Epoch 19/20\n",
      "3000/3000 - 0s - loss: 0.9510 - accuracy: 0.5797\n",
      "Epoch 20/20\n",
      "3000/3000 - 0s - loss: 0.9497 - accuracy: 0.5807\n",
      "number of observations  1300\n",
      "3900\n",
      "(3900, 20, 1) (3900, 3) (206688, 20, 1) (206688, 3)\n",
      "Train on 3900 samples\n",
      "Decreased Learning Rate to: 0.0001\n",
      "Epoch 1/20\n",
      "3900/3900 - 0s - loss: 0.9463 - accuracy: 0.5841\n",
      "Epoch 2/20\n",
      "3900/3900 - 0s - loss: 0.9446 - accuracy: 0.5846\n",
      "Epoch 3/20\n",
      "3900/3900 - 0s - loss: 0.9429 - accuracy: 0.5867\n",
      "Epoch 4/20\n",
      "3900/3900 - 0s - loss: 0.9412 - accuracy: 0.5882\n",
      "Epoch 5/20\n",
      "3900/3900 - 0s - loss: 0.9395 - accuracy: 0.5885\n",
      "Epoch 6/20\n",
      "3900/3900 - 0s - loss: 0.9379 - accuracy: 0.5900\n",
      "Epoch 7/20\n",
      "3900/3900 - 0s - loss: 0.9363 - accuracy: 0.5900\n",
      "Epoch 8/20\n",
      "3900/3900 - 0s - loss: 0.9347 - accuracy: 0.5915\n",
      "Epoch 9/20\n",
      "3900/3900 - 0s - loss: 0.9332 - accuracy: 0.5926\n",
      "Epoch 10/20\n",
      "3900/3900 - 0s - loss: 0.9317 - accuracy: 0.5926\n",
      "Epoch 11/20\n",
      "3900/3900 - 0s - loss: 0.9302 - accuracy: 0.5928\n",
      "Epoch 12/20\n",
      "3900/3900 - 0s - loss: 0.9287 - accuracy: 0.5931\n",
      "Epoch 13/20\n",
      "3900/3900 - 0s - loss: 0.9273 - accuracy: 0.5938\n",
      "Epoch 14/20\n",
      "3900/3900 - 0s - loss: 0.9258 - accuracy: 0.5964\n",
      "Epoch 15/20\n",
      "3900/3900 - 0s - loss: 0.9244 - accuracy: 0.5962\n",
      "Epoch 16/20\n",
      "3900/3900 - 0s - loss: 0.9231 - accuracy: 0.5964\n",
      "Epoch 17/20\n",
      "3900/3900 - 0s - loss: 0.9217 - accuracy: 0.5964\n",
      "Epoch 18/20\n",
      "3900/3900 - 0s - loss: 0.9204 - accuracy: 0.5982\n",
      "Epoch 19/20\n",
      "3900/3900 - 0s - loss: 0.9191 - accuracy: 0.5987\n",
      "Epoch 20/20\n",
      "3900/3900 - 0s - loss: 0.9178 - accuracy: 0.5985\n",
      "number of observations  1600\n",
      "4800\n",
      "(4800, 20, 1) (4800, 3) (206688, 20, 1) (206688, 3)\n",
      "Train on 4800 samples\n",
      "Decreased Learning Rate to: 0.0001\n",
      "Epoch 1/20\n",
      "4800/4800 - 0s - loss: 0.9204 - accuracy: 0.5925\n",
      "Epoch 2/20\n",
      "4800/4800 - 0s - loss: 0.9189 - accuracy: 0.5944\n",
      "Epoch 3/20\n",
      "4800/4800 - 0s - loss: 0.9174 - accuracy: 0.5950\n",
      "Epoch 4/20\n",
      "4800/4800 - 0s - loss: 0.9160 - accuracy: 0.5952\n",
      "Epoch 5/20\n",
      "4800/4800 - 0s - loss: 0.9145 - accuracy: 0.5954\n",
      "Epoch 6/20\n",
      "4800/4800 - 0s - loss: 0.9131 - accuracy: 0.5960\n",
      "Epoch 7/20\n",
      "4800/4800 - 0s - loss: 0.9117 - accuracy: 0.5971\n",
      "Epoch 8/20\n",
      "4800/4800 - 0s - loss: 0.9102 - accuracy: 0.5981\n",
      "Epoch 9/20\n",
      "4800/4800 - 0s - loss: 0.9088 - accuracy: 0.6010\n",
      "Epoch 10/20\n",
      "4800/4800 - 0s - loss: 0.9074 - accuracy: 0.6006\n",
      "Epoch 11/20\n",
      "4800/4800 - 0s - loss: 0.9060 - accuracy: 0.6015\n",
      "Epoch 12/20\n",
      "4800/4800 - 0s - loss: 0.9046 - accuracy: 0.6010\n",
      "Epoch 13/20\n",
      "4800/4800 - 0s - loss: 0.9032 - accuracy: 0.6002\n",
      "Epoch 14/20\n",
      "4800/4800 - 0s - loss: 0.9018 - accuracy: 0.6010\n",
      "Epoch 15/20\n",
      "4800/4800 - 0s - loss: 0.9004 - accuracy: 0.6023\n",
      "Epoch 16/20\n",
      "4800/4800 - 0s - loss: 0.8989 - accuracy: 0.6033\n",
      "Epoch 17/20\n",
      "4800/4800 - 0s - loss: 0.8975 - accuracy: 0.6050\n",
      "Epoch 18/20\n",
      "4800/4800 - 0s - loss: 0.8960 - accuracy: 0.6067\n",
      "Epoch 19/20\n",
      "4800/4800 - 0s - loss: 0.8946 - accuracy: 0.6087\n",
      "Epoch 20/20\n",
      "4800/4800 - 0s - loss: 0.8931 - accuracy: 0.6102\n",
      "number of observations  1900\n",
      "5700\n",
      "(5700, 20, 1) (5700, 3) (206688, 20, 1) (206688, 3)\n",
      "Train on 5700 samples\n",
      "Decreased Learning Rate to: 0.0001\n",
      "Epoch 1/20\n"
     ]
    },
    {
     "name": "stdout",
     "output_type": "stream",
     "text": [
      "5700/5700 - 0s - loss: 0.8906 - accuracy: 0.6147\n",
      "Epoch 2/20\n",
      "5700/5700 - 0s - loss: 0.8888 - accuracy: 0.6184\n",
      "Epoch 3/20\n",
      "5700/5700 - 0s - loss: 0.8871 - accuracy: 0.6195\n",
      "Epoch 4/20\n",
      "5700/5700 - 0s - loss: 0.8853 - accuracy: 0.6202\n",
      "Epoch 5/20\n",
      "5700/5700 - 0s - loss: 0.8835 - accuracy: 0.6212\n",
      "Epoch 6/20\n",
      "5700/5700 - 0s - loss: 0.8818 - accuracy: 0.6239\n",
      "Epoch 7/20\n",
      "5700/5700 - 0s - loss: 0.8800 - accuracy: 0.6246\n",
      "Epoch 8/20\n",
      "5700/5700 - 0s - loss: 0.8783 - accuracy: 0.6249\n",
      "Epoch 9/20\n",
      "5700/5700 - 0s - loss: 0.8766 - accuracy: 0.6282\n",
      "Epoch 10/20\n",
      "5700/5700 - 0s - loss: 0.8748 - accuracy: 0.6281\n",
      "Epoch 11/20\n",
      "5700/5700 - 1s - loss: 0.8731 - accuracy: 0.6291\n",
      "Epoch 12/20\n",
      "5700/5700 - 0s - loss: 0.8714 - accuracy: 0.6307\n",
      "Epoch 13/20\n",
      "5700/5700 - 0s - loss: 0.8696 - accuracy: 0.6321\n",
      "Epoch 14/20\n",
      "5700/5700 - 0s - loss: 0.8680 - accuracy: 0.6318\n",
      "Epoch 15/20\n",
      "5700/5700 - 0s - loss: 0.8663 - accuracy: 0.6318\n",
      "Epoch 16/20\n",
      "5700/5700 - 0s - loss: 0.8647 - accuracy: 0.6311\n",
      "Epoch 17/20\n",
      "5700/5700 - 0s - loss: 0.8630 - accuracy: 0.6314\n",
      "Epoch 18/20\n",
      "5700/5700 - 0s - loss: 0.8613 - accuracy: 0.6312\n",
      "Epoch 19/20\n",
      "5700/5700 - 0s - loss: 0.8598 - accuracy: 0.6326\n",
      "Epoch 20/20\n",
      "5700/5700 - 0s - loss: 0.8582 - accuracy: 0.6323\n"
     ]
    }
   ],
   "source": [
    "for exp in range(n_exp):\n",
    "    print('experiment ', exp)\n",
    "    for n_obs in n_obs_list:\n",
    "        print('number of observations ', n_obs)\n",
    "        sampled_idx_sm = operator.get_samples_index(y_train_bvt.iloc[n_steps-1:], n_obs)\n",
    "        print(len(sampled_idx_sm))\n",
    "        \n",
    "        x_train_sm, y_train_sm, x_test_sm, y_test_sm = get_LSTM_data(x_train_bvt, y_train_bvt, x_test_bvt, y_test_bvt, \n",
    "                                                                     sampled_idx_sm, n_steps)\n",
    "        \n",
    "        print(x_train_sm.shape,y_train_sm.shape,x_test_sm.shape,y_test_sm.shape)\n",
    "\n",
    "        model.fit(x_train_sm, y_train_sm, epochs=n_epoch, batch_size=n_batch, verbose=2,\n",
    "                    shuffle=True, callbacks = bvt_callbacks_list, \n",
    "                    initial_epoch = last_epoch_th)\n",
    "        \n",
    "        pred_df_train, pred_df_test, _ = operator.get_pred_dfs(x_train_sm, x_test_sm, y_train_sm, y_test_sm, \n",
    "                                                       classifier='tensorflow', model=model, \n",
    "                                                       columns=['-1', '0', '1'])\n",
    "        \n",
    "        train_f1 = f1_score(pred_df_train.true, pred_df_train.predict, average=None)\n",
    "        test_f1 = f1_score(pred_df_test.true, pred_df_test.predict, average=None)\n",
    "\n",
    "        f1_df = pd.DataFrame([train_f1, test_f1])\n",
    "        f1_df.columns = ['-1', '0', '1']\n",
    "        f1_df.index = ['train', 'test']\n",
    "        f1_df['n_obs'] = n_obs * 3\n",
    "        f1_df_list.append(f1_df)"
   ]
  },
  {
   "cell_type": "code",
   "execution_count": 72,
   "metadata": {},
   "outputs": [],
   "source": [
    "final_f1_df = pd.concat(f1_df_list)"
   ]
  },
  {
   "cell_type": "code",
   "execution_count": 73,
   "metadata": {},
   "outputs": [
    {
     "ename": "FileNotFoundError",
     "evalue": "[Errno 2] No such file or directory: 'history/lstm_bias_variance.csv'",
     "output_type": "error",
     "traceback": [
      "\u001b[0;31m---------------------------------------------------------------------------\u001b[0m",
      "\u001b[0;31mFileNotFoundError\u001b[0m                         Traceback (most recent call last)",
      "\u001b[0;32m<ipython-input-73-fae616879011>\u001b[0m in \u001b[0;36m<module>\u001b[0;34m\u001b[0m\n\u001b[0;32m----> 1\u001b[0;31m \u001b[0mfinal_f1_df\u001b[0m\u001b[0;34m.\u001b[0m\u001b[0mto_csv\u001b[0m\u001b[0;34m(\u001b[0m\u001b[0;34m'history/lstm_bias_variance.csv'\u001b[0m\u001b[0;34m)\u001b[0m\u001b[0;34m\u001b[0m\u001b[0;34m\u001b[0m\u001b[0m\n\u001b[0m",
      "\u001b[0;32m~/anaconda3/envs/ds36/lib/python3.6/site-packages/pandas/core/generic.py\u001b[0m in \u001b[0;36mto_csv\u001b[0;34m(self, path_or_buf, sep, na_rep, float_format, columns, header, index, index_label, mode, encoding, compression, quoting, quotechar, line_terminator, chunksize, date_format, doublequote, escapechar, decimal)\u001b[0m\n\u001b[1;32m   3202\u001b[0m             \u001b[0mdecimal\u001b[0m\u001b[0;34m=\u001b[0m\u001b[0mdecimal\u001b[0m\u001b[0;34m,\u001b[0m\u001b[0;34m\u001b[0m\u001b[0;34m\u001b[0m\u001b[0m\n\u001b[1;32m   3203\u001b[0m         )\n\u001b[0;32m-> 3204\u001b[0;31m         \u001b[0mformatter\u001b[0m\u001b[0;34m.\u001b[0m\u001b[0msave\u001b[0m\u001b[0;34m(\u001b[0m\u001b[0;34m)\u001b[0m\u001b[0;34m\u001b[0m\u001b[0;34m\u001b[0m\u001b[0m\n\u001b[0m\u001b[1;32m   3205\u001b[0m \u001b[0;34m\u001b[0m\u001b[0m\n\u001b[1;32m   3206\u001b[0m         \u001b[0;32mif\u001b[0m \u001b[0mpath_or_buf\u001b[0m \u001b[0;32mis\u001b[0m \u001b[0;32mNone\u001b[0m\u001b[0;34m:\u001b[0m\u001b[0;34m\u001b[0m\u001b[0;34m\u001b[0m\u001b[0m\n",
      "\u001b[0;32m~/anaconda3/envs/ds36/lib/python3.6/site-packages/pandas/io/formats/csvs.py\u001b[0m in \u001b[0;36msave\u001b[0;34m(self)\u001b[0m\n\u001b[1;32m    186\u001b[0m                 \u001b[0mself\u001b[0m\u001b[0;34m.\u001b[0m\u001b[0mmode\u001b[0m\u001b[0;34m,\u001b[0m\u001b[0;34m\u001b[0m\u001b[0;34m\u001b[0m\u001b[0m\n\u001b[1;32m    187\u001b[0m                 \u001b[0mencoding\u001b[0m\u001b[0;34m=\u001b[0m\u001b[0mself\u001b[0m\u001b[0;34m.\u001b[0m\u001b[0mencoding\u001b[0m\u001b[0;34m,\u001b[0m\u001b[0;34m\u001b[0m\u001b[0;34m\u001b[0m\u001b[0m\n\u001b[0;32m--> 188\u001b[0;31m                 \u001b[0mcompression\u001b[0m\u001b[0;34m=\u001b[0m\u001b[0mdict\u001b[0m\u001b[0;34m(\u001b[0m\u001b[0mself\u001b[0m\u001b[0;34m.\u001b[0m\u001b[0mcompression_args\u001b[0m\u001b[0;34m,\u001b[0m \u001b[0mmethod\u001b[0m\u001b[0;34m=\u001b[0m\u001b[0mself\u001b[0m\u001b[0;34m.\u001b[0m\u001b[0mcompression\u001b[0m\u001b[0;34m)\u001b[0m\u001b[0;34m,\u001b[0m\u001b[0;34m\u001b[0m\u001b[0;34m\u001b[0m\u001b[0m\n\u001b[0m\u001b[1;32m    189\u001b[0m             )\n\u001b[1;32m    190\u001b[0m             \u001b[0mclose\u001b[0m \u001b[0;34m=\u001b[0m \u001b[0;32mTrue\u001b[0m\u001b[0;34m\u001b[0m\u001b[0;34m\u001b[0m\u001b[0m\n",
      "\u001b[0;32m~/anaconda3/envs/ds36/lib/python3.6/site-packages/pandas/io/common.py\u001b[0m in \u001b[0;36mget_handle\u001b[0;34m(path_or_buf, mode, encoding, compression, memory_map, is_text)\u001b[0m\n\u001b[1;32m    426\u001b[0m         \u001b[0;32mif\u001b[0m \u001b[0mencoding\u001b[0m\u001b[0;34m:\u001b[0m\u001b[0;34m\u001b[0m\u001b[0;34m\u001b[0m\u001b[0m\n\u001b[1;32m    427\u001b[0m             \u001b[0;31m# Encoding\u001b[0m\u001b[0;34m\u001b[0m\u001b[0;34m\u001b[0m\u001b[0;34m\u001b[0m\u001b[0m\n\u001b[0;32m--> 428\u001b[0;31m             \u001b[0mf\u001b[0m \u001b[0;34m=\u001b[0m \u001b[0mopen\u001b[0m\u001b[0;34m(\u001b[0m\u001b[0mpath_or_buf\u001b[0m\u001b[0;34m,\u001b[0m \u001b[0mmode\u001b[0m\u001b[0;34m,\u001b[0m \u001b[0mencoding\u001b[0m\u001b[0;34m=\u001b[0m\u001b[0mencoding\u001b[0m\u001b[0;34m,\u001b[0m \u001b[0mnewline\u001b[0m\u001b[0;34m=\u001b[0m\u001b[0;34m\"\"\u001b[0m\u001b[0;34m)\u001b[0m\u001b[0;34m\u001b[0m\u001b[0;34m\u001b[0m\u001b[0m\n\u001b[0m\u001b[1;32m    429\u001b[0m         \u001b[0;32melif\u001b[0m \u001b[0mis_text\u001b[0m\u001b[0;34m:\u001b[0m\u001b[0;34m\u001b[0m\u001b[0;34m\u001b[0m\u001b[0m\n\u001b[1;32m    430\u001b[0m             \u001b[0;31m# No explicit encoding\u001b[0m\u001b[0;34m\u001b[0m\u001b[0;34m\u001b[0m\u001b[0;34m\u001b[0m\u001b[0m\n",
      "\u001b[0;31mFileNotFoundError\u001b[0m: [Errno 2] No such file or directory: 'history/lstm_bias_variance.csv'"
     ]
    }
   ],
   "source": [
    "final_f1_df.to_csv('history/lstm_bias_variance.csv')"
   ]
  },
  {
   "cell_type": "code",
   "execution_count": null,
   "metadata": {
    "collapsed": true
   },
   "outputs": [],
   "source": [
    "final_f1_df = pd.read_csv('history/lstm_bias_variance.csv', index_col=0)"
   ]
  },
  {
   "cell_type": "code",
   "execution_count": null,
   "metadata": {
    "collapsed": true
   },
   "outputs": [],
   "source": [
    "final_f1_df['macro_avg'] = final_f1_df[['-1','0','1']].mean(axis=1)"
   ]
  },
  {
   "cell_type": "code",
   "execution_count": null,
   "metadata": {
    "collapsed": true
   },
   "outputs": [],
   "source": [
    "for label in ['macro_avg', '1', '0', '-1']:\n",
    "    evaluator.plot_learning_curve(final_f1_df, label, 'n_obs')"
   ]
  },
  {
   "cell_type": "markdown",
   "metadata": {
    "collapsed": true
   },
   "source": [
    "## Loss function convergence "
   ]
  },
  {
   "cell_type": "code",
   "execution_count": null,
   "metadata": {
    "collapsed": true
   },
   "outputs": [],
   "source": [
    "history_path = \"history/lstm_history.json\"\n",
    "with open(history_path, 'r') as fp:\n",
    "    hist = json.load(fp)"
   ]
  },
  {
   "cell_type": "code",
   "execution_count": null,
   "metadata": {},
   "outputs": [],
   "source": [
    "fig = plt.figure(figsize=(6, 4.5))\n",
    "train_line = plt.plot(range(len(hist['acc'])), hist[\"acc\"],  color=\"b\", label=\"Training\")\n",
    "vald_line = plt.plot(range(len(hist['acc'])), hist[\"val_acc\"], color=\"g\", label=\"Validattion\")\n",
    "plt.legend(loc=\"best\", fontsize=15)\n",
    "plt.ylim(-0.1, 1)\n",
    "plt.title(\"accuracy vs epoch\")\n",
    "plt.xlabel('epoch', fontsize=20)\n",
    "plt.ylabel('score', fontsize=20)"
   ]
  },
  {
   "cell_type": "code",
   "execution_count": null,
   "metadata": {},
   "outputs": [],
   "source": [
    "fig = plt.figure(figsize=(6, 4.5))\n",
    "train_line = plt.plot(range(len(hist['loss'])), hist[\"loss\"],  color=\"b\", label=\"Training\")\n",
    "vald_line = plt.plot(range(len(hist['loss'])), hist[\"val_loss\"], color=\"g\", label=\"Validattion\")\n",
    "plt.legend(loc=\"best\", fontsize=15)\n",
    "plt.title(\"loss vs epoch\")\n",
    "plt.xlabel('epoch', fontsize=20)\n",
    "plt.ylabel('loss', fontsize=20)"
   ]
  },
  {
   "cell_type": "markdown",
   "metadata": {},
   "source": [
    "## LSTM Model Regression\n",
    "\n",
    "An alternative approach to classification is to formulate the response as a continuous variable and predict the 'smart price' as a uni-variate time series. The smart price is the volume weighted mid-price, represented by feature_3 in our dataset."
   ]
  },
  {
   "cell_type": "markdown",
   "metadata": {},
   "source": [
    "### Data formatting"
   ]
  },
  {
   "cell_type": "code",
   "execution_count": 74,
   "metadata": {},
   "outputs": [],
   "source": [
    "use_features = ['feature_3']\n",
    "target = 'feature_3'\n",
    "n_steps = 10"
   ]
  },
  {
   "cell_type": "code",
   "execution_count": 75,
   "metadata": {},
   "outputs": [],
   "source": [
    "train_weight = 0.8\n",
    "split = int(len(df)*train_weight)"
   ]
  },
  {
   "cell_type": "code",
   "execution_count": 76,
   "metadata": {},
   "outputs": [],
   "source": [
    "df_train = df.iloc[:split]\n",
    "std_df_train = df_train[use_features].apply(lambda x: (x - x.mean()) / x.std())\n",
    "df_test = df.iloc[split:]\n",
    "std_df_test = df[use_features].apply(lambda x: (x - x.mean()) / x.std()).iloc[split:]"
   ]
  },
  {
   "cell_type": "code",
   "execution_count": 77,
   "metadata": {},
   "outputs": [],
   "source": [
    "def get_lagged_features(value, n_steps):\n",
    "    lag_list = []\n",
    "    for lag in range(n_steps, 0, -1):\n",
    "        lag_list.append(value.shift(lag))\n",
    "    return pd.concat(lag_list, axis=1)"
   ]
  },
  {
   "cell_type": "code",
   "execution_count": 78,
   "metadata": {},
   "outputs": [],
   "source": [
    "x_train_list = []\n",
    "for use_feature in use_features:\n",
    "    x_train_reg = get_lagged_features(std_df_train, n_steps).dropna()\n",
    "    x_train_list.append(x_train_reg)\n",
    "x_train_reg = pd.concat(x_train_list, axis=1)"
   ]
  },
  {
   "cell_type": "code",
   "execution_count": 79,
   "metadata": {},
   "outputs": [],
   "source": [
    "col_ords = []\n",
    "for i in range(n_steps):\n",
    "    for j in range(len(use_features)):\n",
    "        col_ords.append(i + j * n_steps)"
   ]
  },
  {
   "cell_type": "code",
   "execution_count": 82,
   "metadata": {},
   "outputs": [],
   "source": [
    "x_train_reg = x_train_reg.iloc[:, col_ords]\n",
    "y_train_reg = df_train.loc[x_train_reg.index, [target]].values\n",
    "x_train_reg = np.reshape(x_train_reg.values, (x_train_reg.shape[0], int(x_train_reg.shape[1] / len(use_features)), len(use_features)))"
   ]
  },
  {
   "cell_type": "code",
   "execution_count": 83,
   "metadata": {},
   "outputs": [],
   "source": [
    "x_test_list = []\n",
    "for use_feature in use_features:\n",
    "    x_test_reg = get_lagged_features(std_df_test, n_steps).dropna()\n",
    "    x_test_list.append(x_test_reg)\n",
    "x_test_reg = pd.concat(x_test_list, axis=1)"
   ]
  },
  {
   "cell_type": "code",
   "execution_count": 87,
   "metadata": {},
   "outputs": [],
   "source": [
    "x_test_reg = x_test_reg.iloc[:, col_ords]\n",
    "y_test_reg = df_test.loc[x_test_reg.index, [target]].values\n",
    "x_test_reg = np.reshape(x_test_reg.values, (x_test_reg.shape[0], int(x_test_reg.shape[1]/len(use_features)), len(use_features)))"
   ]
  },
  {
   "cell_type": "code",
   "execution_count": 88,
   "metadata": {},
   "outputs": [
    {
     "name": "stdout",
     "output_type": "stream",
     "text": [
      "(826815, 10, 1) (826815, 1) (206697, 10, 1) (206697, 1)\n"
     ]
    }
   ],
   "source": [
    "print(x_train_reg.shape,y_train_reg.shape,x_test_reg.shape,y_test_reg.shape)"
   ]
  },
  {
   "cell_type": "markdown",
   "metadata": {},
   "source": [
    "### Model Specification"
   ]
  },
  {
   "cell_type": "code",
   "execution_count": 90,
   "metadata": {},
   "outputs": [],
   "source": [
    "reg_model = keras.models.Sequential()\n",
    "reg_model.add(keras.layers.LSTM(10, input_shape=(x_train_reg.shape[1], x_train_reg.shape[-1])))\n",
    "reg_model.add(keras.layers.Dense(1))\n",
    "reg_model.compile(loss='mean_squared_error', optimizer='adam')"
   ]
  },
  {
   "cell_type": "code",
   "execution_count": 91,
   "metadata": {},
   "outputs": [],
   "source": [
    "last_epoch_th = 0"
   ]
  },
  {
   "cell_type": "code",
   "execution_count": 92,
   "metadata": {},
   "outputs": [
    {
     "name": "stdout",
     "output_type": "stream",
     "text": [
      "Train on 826815 samples\n",
      "Epoch 1/20\n",
      "826815/826815 [==============================] - 36s 43us/sample - loss: 0.0097\n",
      "Epoch 2/20\n",
      "826815/826815 [==============================] - 32s 38us/sample - loss: 4.6313e-05\n",
      "Epoch 3/20\n",
      "826815/826815 [==============================] - 33s 39us/sample - loss: 2.8783e-05\n",
      "Epoch 4/20\n",
      "826815/826815 [==============================] - 32s 39us/sample - loss: 2.1927e-05\n",
      "Epoch 5/20\n",
      "826815/826815 [==============================] - 33s 39us/sample - loss: 1.9534e-05\n",
      "Epoch 6/20\n",
      " 68000/826815 [=>............................] - ETA: 38s - loss: 1.9454e-05"
     ]
    },
    {
     "ename": "KeyboardInterrupt",
     "evalue": "",
     "output_type": "error",
     "traceback": [
      "\u001b[0;31m---------------------------------------------------------------------------\u001b[0m",
      "\u001b[0;31mKeyboardInterrupt\u001b[0m                         Traceback (most recent call last)",
      "\u001b[0;32m<ipython-input-92-21d97cd11238>\u001b[0m in \u001b[0;36m<module>\u001b[0;34m\u001b[0m\n\u001b[0;32m----> 1\u001b[0;31m \u001b[0mreg_model\u001b[0m\u001b[0;34m.\u001b[0m\u001b[0mfit\u001b[0m\u001b[0;34m(\u001b[0m\u001b[0mx_train_reg\u001b[0m\u001b[0;34m,\u001b[0m \u001b[0my_train_reg\u001b[0m\u001b[0;34m,\u001b[0m \u001b[0mepochs\u001b[0m\u001b[0;34m=\u001b[0m\u001b[0;36m20\u001b[0m\u001b[0;34m,\u001b[0m \u001b[0mbatch_size\u001b[0m\u001b[0;34m=\u001b[0m\u001b[0;36m500\u001b[0m\u001b[0;34m,\u001b[0m \u001b[0mverbose\u001b[0m\u001b[0;34m=\u001b[0m\u001b[0;36m1\u001b[0m\u001b[0;34m,\u001b[0m \u001b[0minitial_epoch\u001b[0m \u001b[0;34m=\u001b[0m \u001b[0mlast_epoch_th\u001b[0m\u001b[0;34m)\u001b[0m\u001b[0;34m\u001b[0m\u001b[0;34m\u001b[0m\u001b[0m\n\u001b[0m",
      "\u001b[0;32m~/anaconda3/envs/ds36/lib/python3.6/site-packages/tensorflow_core/python/keras/engine/training.py\u001b[0m in \u001b[0;36mfit\u001b[0;34m(self, x, y, batch_size, epochs, verbose, callbacks, validation_split, validation_data, shuffle, class_weight, sample_weight, initial_epoch, steps_per_epoch, validation_steps, validation_freq, max_queue_size, workers, use_multiprocessing, **kwargs)\u001b[0m\n\u001b[1;32m    817\u001b[0m         \u001b[0mmax_queue_size\u001b[0m\u001b[0;34m=\u001b[0m\u001b[0mmax_queue_size\u001b[0m\u001b[0;34m,\u001b[0m\u001b[0;34m\u001b[0m\u001b[0;34m\u001b[0m\u001b[0m\n\u001b[1;32m    818\u001b[0m         \u001b[0mworkers\u001b[0m\u001b[0;34m=\u001b[0m\u001b[0mworkers\u001b[0m\u001b[0;34m,\u001b[0m\u001b[0;34m\u001b[0m\u001b[0;34m\u001b[0m\u001b[0m\n\u001b[0;32m--> 819\u001b[0;31m         use_multiprocessing=use_multiprocessing)\n\u001b[0m\u001b[1;32m    820\u001b[0m \u001b[0;34m\u001b[0m\u001b[0m\n\u001b[1;32m    821\u001b[0m   def evaluate(self,\n",
      "\u001b[0;32m~/anaconda3/envs/ds36/lib/python3.6/site-packages/tensorflow_core/python/keras/engine/training_v2.py\u001b[0m in \u001b[0;36mfit\u001b[0;34m(self, model, x, y, batch_size, epochs, verbose, callbacks, validation_split, validation_data, shuffle, class_weight, sample_weight, initial_epoch, steps_per_epoch, validation_steps, validation_freq, max_queue_size, workers, use_multiprocessing, **kwargs)\u001b[0m\n\u001b[1;32m    340\u001b[0m                 \u001b[0mmode\u001b[0m\u001b[0;34m=\u001b[0m\u001b[0mModeKeys\u001b[0m\u001b[0;34m.\u001b[0m\u001b[0mTRAIN\u001b[0m\u001b[0;34m,\u001b[0m\u001b[0;34m\u001b[0m\u001b[0;34m\u001b[0m\u001b[0m\n\u001b[1;32m    341\u001b[0m                 \u001b[0mtraining_context\u001b[0m\u001b[0;34m=\u001b[0m\u001b[0mtraining_context\u001b[0m\u001b[0;34m,\u001b[0m\u001b[0;34m\u001b[0m\u001b[0;34m\u001b[0m\u001b[0m\n\u001b[0;32m--> 342\u001b[0;31m                 total_epochs=epochs)\n\u001b[0m\u001b[1;32m    343\u001b[0m             \u001b[0mcbks\u001b[0m\u001b[0;34m.\u001b[0m\u001b[0mmake_logs\u001b[0m\u001b[0;34m(\u001b[0m\u001b[0mmodel\u001b[0m\u001b[0;34m,\u001b[0m \u001b[0mepoch_logs\u001b[0m\u001b[0;34m,\u001b[0m \u001b[0mtraining_result\u001b[0m\u001b[0;34m,\u001b[0m \u001b[0mModeKeys\u001b[0m\u001b[0;34m.\u001b[0m\u001b[0mTRAIN\u001b[0m\u001b[0;34m)\u001b[0m\u001b[0;34m\u001b[0m\u001b[0;34m\u001b[0m\u001b[0m\n\u001b[1;32m    344\u001b[0m \u001b[0;34m\u001b[0m\u001b[0m\n",
      "\u001b[0;32m~/anaconda3/envs/ds36/lib/python3.6/site-packages/tensorflow_core/python/keras/engine/training_v2.py\u001b[0m in \u001b[0;36mrun_one_epoch\u001b[0;34m(model, iterator, execution_function, dataset_size, batch_size, strategy, steps_per_epoch, num_samples, mode, training_context, total_epochs)\u001b[0m\n\u001b[1;32m    126\u001b[0m         step=step, mode=mode, size=current_batch_size) as batch_logs:\n\u001b[1;32m    127\u001b[0m       \u001b[0;32mtry\u001b[0m\u001b[0;34m:\u001b[0m\u001b[0;34m\u001b[0m\u001b[0;34m\u001b[0m\u001b[0m\n\u001b[0;32m--> 128\u001b[0;31m         \u001b[0mbatch_outs\u001b[0m \u001b[0;34m=\u001b[0m \u001b[0mexecution_function\u001b[0m\u001b[0;34m(\u001b[0m\u001b[0miterator\u001b[0m\u001b[0;34m)\u001b[0m\u001b[0;34m\u001b[0m\u001b[0;34m\u001b[0m\u001b[0m\n\u001b[0m\u001b[1;32m    129\u001b[0m       \u001b[0;32mexcept\u001b[0m \u001b[0;34m(\u001b[0m\u001b[0mStopIteration\u001b[0m\u001b[0;34m,\u001b[0m \u001b[0merrors\u001b[0m\u001b[0;34m.\u001b[0m\u001b[0mOutOfRangeError\u001b[0m\u001b[0;34m)\u001b[0m\u001b[0;34m:\u001b[0m\u001b[0;34m\u001b[0m\u001b[0;34m\u001b[0m\u001b[0m\n\u001b[1;32m    130\u001b[0m         \u001b[0;31m# TODO(kaftan): File bug about tf function and errors.OutOfRangeError?\u001b[0m\u001b[0;34m\u001b[0m\u001b[0;34m\u001b[0m\u001b[0;34m\u001b[0m\u001b[0m\n",
      "\u001b[0;32m~/anaconda3/envs/ds36/lib/python3.6/site-packages/tensorflow_core/python/keras/engine/training_v2_utils.py\u001b[0m in \u001b[0;36mexecution_function\u001b[0;34m(input_fn)\u001b[0m\n\u001b[1;32m     96\u001b[0m     \u001b[0;31m# `numpy` translates Tensors to values in Eager mode.\u001b[0m\u001b[0;34m\u001b[0m\u001b[0;34m\u001b[0m\u001b[0;34m\u001b[0m\u001b[0m\n\u001b[1;32m     97\u001b[0m     return nest.map_structure(_non_none_constant_value,\n\u001b[0;32m---> 98\u001b[0;31m                               distributed_function(input_fn))\n\u001b[0m\u001b[1;32m     99\u001b[0m \u001b[0;34m\u001b[0m\u001b[0m\n\u001b[1;32m    100\u001b[0m   \u001b[0;32mreturn\u001b[0m \u001b[0mexecution_function\u001b[0m\u001b[0;34m\u001b[0m\u001b[0;34m\u001b[0m\u001b[0m\n",
      "\u001b[0;32m~/anaconda3/envs/ds36/lib/python3.6/site-packages/tensorflow_core/python/eager/def_function.py\u001b[0m in \u001b[0;36m__call__\u001b[0;34m(self, *args, **kwds)\u001b[0m\n\u001b[1;32m    566\u001b[0m         \u001b[0mxla_context\u001b[0m\u001b[0;34m.\u001b[0m\u001b[0mExit\u001b[0m\u001b[0;34m(\u001b[0m\u001b[0;34m)\u001b[0m\u001b[0;34m\u001b[0m\u001b[0;34m\u001b[0m\u001b[0m\n\u001b[1;32m    567\u001b[0m     \u001b[0;32melse\u001b[0m\u001b[0;34m:\u001b[0m\u001b[0;34m\u001b[0m\u001b[0;34m\u001b[0m\u001b[0m\n\u001b[0;32m--> 568\u001b[0;31m       \u001b[0mresult\u001b[0m \u001b[0;34m=\u001b[0m \u001b[0mself\u001b[0m\u001b[0;34m.\u001b[0m\u001b[0m_call\u001b[0m\u001b[0;34m(\u001b[0m\u001b[0;34m*\u001b[0m\u001b[0margs\u001b[0m\u001b[0;34m,\u001b[0m \u001b[0;34m**\u001b[0m\u001b[0mkwds\u001b[0m\u001b[0;34m)\u001b[0m\u001b[0;34m\u001b[0m\u001b[0;34m\u001b[0m\u001b[0m\n\u001b[0m\u001b[1;32m    569\u001b[0m \u001b[0;34m\u001b[0m\u001b[0m\n\u001b[1;32m    570\u001b[0m     \u001b[0;32mif\u001b[0m \u001b[0mtracing_count\u001b[0m \u001b[0;34m==\u001b[0m \u001b[0mself\u001b[0m\u001b[0;34m.\u001b[0m\u001b[0m_get_tracing_count\u001b[0m\u001b[0;34m(\u001b[0m\u001b[0;34m)\u001b[0m\u001b[0;34m:\u001b[0m\u001b[0;34m\u001b[0m\u001b[0;34m\u001b[0m\u001b[0m\n",
      "\u001b[0;32m~/anaconda3/envs/ds36/lib/python3.6/site-packages/tensorflow_core/python/eager/def_function.py\u001b[0m in \u001b[0;36m_call\u001b[0;34m(self, *args, **kwds)\u001b[0m\n\u001b[1;32m    597\u001b[0m       \u001b[0;31m# In this case we have created variables on the first call, so we run the\u001b[0m\u001b[0;34m\u001b[0m\u001b[0;34m\u001b[0m\u001b[0;34m\u001b[0m\u001b[0m\n\u001b[1;32m    598\u001b[0m       \u001b[0;31m# defunned version which is guaranteed to never create variables.\u001b[0m\u001b[0;34m\u001b[0m\u001b[0;34m\u001b[0m\u001b[0;34m\u001b[0m\u001b[0m\n\u001b[0;32m--> 599\u001b[0;31m       \u001b[0;32mreturn\u001b[0m \u001b[0mself\u001b[0m\u001b[0;34m.\u001b[0m\u001b[0m_stateless_fn\u001b[0m\u001b[0;34m(\u001b[0m\u001b[0;34m*\u001b[0m\u001b[0margs\u001b[0m\u001b[0;34m,\u001b[0m \u001b[0;34m**\u001b[0m\u001b[0mkwds\u001b[0m\u001b[0;34m)\u001b[0m  \u001b[0;31m# pylint: disable=not-callable\u001b[0m\u001b[0;34m\u001b[0m\u001b[0;34m\u001b[0m\u001b[0m\n\u001b[0m\u001b[1;32m    600\u001b[0m     \u001b[0;32melif\u001b[0m \u001b[0mself\u001b[0m\u001b[0;34m.\u001b[0m\u001b[0m_stateful_fn\u001b[0m \u001b[0;32mis\u001b[0m \u001b[0;32mnot\u001b[0m \u001b[0;32mNone\u001b[0m\u001b[0;34m:\u001b[0m\u001b[0;34m\u001b[0m\u001b[0;34m\u001b[0m\u001b[0m\n\u001b[1;32m    601\u001b[0m       \u001b[0;31m# Release the lock early so that multiple threads can perform the call\u001b[0m\u001b[0;34m\u001b[0m\u001b[0;34m\u001b[0m\u001b[0;34m\u001b[0m\u001b[0m\n",
      "\u001b[0;32m~/anaconda3/envs/ds36/lib/python3.6/site-packages/tensorflow_core/python/eager/function.py\u001b[0m in \u001b[0;36m__call__\u001b[0;34m(self, *args, **kwargs)\u001b[0m\n\u001b[1;32m   2361\u001b[0m     \u001b[0;32mwith\u001b[0m \u001b[0mself\u001b[0m\u001b[0;34m.\u001b[0m\u001b[0m_lock\u001b[0m\u001b[0;34m:\u001b[0m\u001b[0;34m\u001b[0m\u001b[0;34m\u001b[0m\u001b[0m\n\u001b[1;32m   2362\u001b[0m       \u001b[0mgraph_function\u001b[0m\u001b[0;34m,\u001b[0m \u001b[0margs\u001b[0m\u001b[0;34m,\u001b[0m \u001b[0mkwargs\u001b[0m \u001b[0;34m=\u001b[0m \u001b[0mself\u001b[0m\u001b[0;34m.\u001b[0m\u001b[0m_maybe_define_function\u001b[0m\u001b[0;34m(\u001b[0m\u001b[0margs\u001b[0m\u001b[0;34m,\u001b[0m \u001b[0mkwargs\u001b[0m\u001b[0;34m)\u001b[0m\u001b[0;34m\u001b[0m\u001b[0;34m\u001b[0m\u001b[0m\n\u001b[0;32m-> 2363\u001b[0;31m     \u001b[0;32mreturn\u001b[0m \u001b[0mgraph_function\u001b[0m\u001b[0;34m.\u001b[0m\u001b[0m_filtered_call\u001b[0m\u001b[0;34m(\u001b[0m\u001b[0margs\u001b[0m\u001b[0;34m,\u001b[0m \u001b[0mkwargs\u001b[0m\u001b[0;34m)\u001b[0m  \u001b[0;31m# pylint: disable=protected-access\u001b[0m\u001b[0;34m\u001b[0m\u001b[0;34m\u001b[0m\u001b[0m\n\u001b[0m\u001b[1;32m   2364\u001b[0m \u001b[0;34m\u001b[0m\u001b[0m\n\u001b[1;32m   2365\u001b[0m   \u001b[0;34m@\u001b[0m\u001b[0mproperty\u001b[0m\u001b[0;34m\u001b[0m\u001b[0;34m\u001b[0m\u001b[0m\n",
      "\u001b[0;32m~/anaconda3/envs/ds36/lib/python3.6/site-packages/tensorflow_core/python/eager/function.py\u001b[0m in \u001b[0;36m_filtered_call\u001b[0;34m(self, args, kwargs)\u001b[0m\n\u001b[1;32m   1609\u001b[0m          if isinstance(t, (ops.Tensor,\n\u001b[1;32m   1610\u001b[0m                            resource_variable_ops.BaseResourceVariable))),\n\u001b[0;32m-> 1611\u001b[0;31m         self.captured_inputs)\n\u001b[0m\u001b[1;32m   1612\u001b[0m \u001b[0;34m\u001b[0m\u001b[0m\n\u001b[1;32m   1613\u001b[0m   \u001b[0;32mdef\u001b[0m \u001b[0m_call_flat\u001b[0m\u001b[0;34m(\u001b[0m\u001b[0mself\u001b[0m\u001b[0;34m,\u001b[0m \u001b[0margs\u001b[0m\u001b[0;34m,\u001b[0m \u001b[0mcaptured_inputs\u001b[0m\u001b[0;34m,\u001b[0m \u001b[0mcancellation_manager\u001b[0m\u001b[0;34m=\u001b[0m\u001b[0;32mNone\u001b[0m\u001b[0;34m)\u001b[0m\u001b[0;34m:\u001b[0m\u001b[0;34m\u001b[0m\u001b[0;34m\u001b[0m\u001b[0m\n",
      "\u001b[0;32m~/anaconda3/envs/ds36/lib/python3.6/site-packages/tensorflow_core/python/eager/function.py\u001b[0m in \u001b[0;36m_call_flat\u001b[0;34m(self, args, captured_inputs, cancellation_manager)\u001b[0m\n\u001b[1;32m   1690\u001b[0m       \u001b[0;31m# No tape is watching; skip to running the function.\u001b[0m\u001b[0;34m\u001b[0m\u001b[0;34m\u001b[0m\u001b[0;34m\u001b[0m\u001b[0m\n\u001b[1;32m   1691\u001b[0m       return self._build_call_outputs(self._inference_function.call(\n\u001b[0;32m-> 1692\u001b[0;31m           ctx, args, cancellation_manager=cancellation_manager))\n\u001b[0m\u001b[1;32m   1693\u001b[0m     forward_backward = self._select_forward_and_backward_functions(\n\u001b[1;32m   1694\u001b[0m         \u001b[0margs\u001b[0m\u001b[0;34m,\u001b[0m\u001b[0;34m\u001b[0m\u001b[0;34m\u001b[0m\u001b[0m\n",
      "\u001b[0;32m~/anaconda3/envs/ds36/lib/python3.6/site-packages/tensorflow_core/python/eager/function.py\u001b[0m in \u001b[0;36mcall\u001b[0;34m(self, ctx, args, cancellation_manager)\u001b[0m\n\u001b[1;32m    543\u001b[0m               \u001b[0minputs\u001b[0m\u001b[0;34m=\u001b[0m\u001b[0margs\u001b[0m\u001b[0;34m,\u001b[0m\u001b[0;34m\u001b[0m\u001b[0;34m\u001b[0m\u001b[0m\n\u001b[1;32m    544\u001b[0m               \u001b[0mattrs\u001b[0m\u001b[0;34m=\u001b[0m\u001b[0;34m(\u001b[0m\u001b[0;34m\"executor_type\"\u001b[0m\u001b[0;34m,\u001b[0m \u001b[0mexecutor_type\u001b[0m\u001b[0;34m,\u001b[0m \u001b[0;34m\"config_proto\"\u001b[0m\u001b[0;34m,\u001b[0m \u001b[0mconfig\u001b[0m\u001b[0;34m)\u001b[0m\u001b[0;34m,\u001b[0m\u001b[0;34m\u001b[0m\u001b[0;34m\u001b[0m\u001b[0m\n\u001b[0;32m--> 545\u001b[0;31m               ctx=ctx)\n\u001b[0m\u001b[1;32m    546\u001b[0m         \u001b[0;32melse\u001b[0m\u001b[0;34m:\u001b[0m\u001b[0;34m\u001b[0m\u001b[0;34m\u001b[0m\u001b[0m\n\u001b[1;32m    547\u001b[0m           outputs = execute.execute_with_cancellation(\n",
      "\u001b[0;32m~/anaconda3/envs/ds36/lib/python3.6/site-packages/tensorflow_core/python/eager/execute.py\u001b[0m in \u001b[0;36mquick_execute\u001b[0;34m(op_name, num_outputs, inputs, attrs, ctx, name)\u001b[0m\n\u001b[1;32m     59\u001b[0m     tensors = pywrap_tensorflow.TFE_Py_Execute(ctx._handle, device_name,\n\u001b[1;32m     60\u001b[0m                                                \u001b[0mop_name\u001b[0m\u001b[0;34m,\u001b[0m \u001b[0minputs\u001b[0m\u001b[0;34m,\u001b[0m \u001b[0mattrs\u001b[0m\u001b[0;34m,\u001b[0m\u001b[0;34m\u001b[0m\u001b[0;34m\u001b[0m\u001b[0m\n\u001b[0;32m---> 61\u001b[0;31m                                                num_outputs)\n\u001b[0m\u001b[1;32m     62\u001b[0m   \u001b[0;32mexcept\u001b[0m \u001b[0mcore\u001b[0m\u001b[0;34m.\u001b[0m\u001b[0m_NotOkStatusException\u001b[0m \u001b[0;32mas\u001b[0m \u001b[0me\u001b[0m\u001b[0;34m:\u001b[0m\u001b[0;34m\u001b[0m\u001b[0;34m\u001b[0m\u001b[0m\n\u001b[1;32m     63\u001b[0m     \u001b[0;32mif\u001b[0m \u001b[0mname\u001b[0m \u001b[0;32mis\u001b[0m \u001b[0;32mnot\u001b[0m \u001b[0;32mNone\u001b[0m\u001b[0;34m:\u001b[0m\u001b[0;34m\u001b[0m\u001b[0;34m\u001b[0m\u001b[0m\n",
      "\u001b[0;31mKeyboardInterrupt\u001b[0m: "
     ]
    }
   ],
   "source": [
    "reg_model.fit(x_train_reg, y_train_reg, epochs=20, batch_size=500, verbose=1, initial_epoch = last_epoch_th)"
   ]
  },
  {
   "cell_type": "code",
   "execution_count": null,
   "metadata": {
    "collapsed": true
   },
   "outputs": [],
   "source": [
    "# save the model\n",
    "reg_model.save('model/lstm_regression_HFT.hdf5', overwrite=True)  # creates a HDF5 file 'my_model.h5'"
   ]
  },
  {
   "cell_type": "code",
   "execution_count": null,
   "metadata": {
    "collapsed": true
   },
   "outputs": [],
   "source": [
    "# returns a compiled model\n",
    "# identical to the previous one\n",
    "reg_model = load_model('model/lstm_regression_HFT.hdf5')"
   ]
  },
  {
   "cell_type": "markdown",
   "metadata": {},
   "source": [
    "### Prediction"
   ]
  },
  {
   "cell_type": "code",
   "execution_count": 93,
   "metadata": {
    "scrolled": true
   },
   "outputs": [
    {
     "name": "stdout",
     "output_type": "stream",
     "text": [
      "213344/826815 [======>.......................] - ETA: 54s"
     ]
    },
    {
     "ename": "KeyboardInterrupt",
     "evalue": "",
     "output_type": "error",
     "traceback": [
      "\u001b[0;31m---------------------------------------------------------------------------\u001b[0m",
      "\u001b[0;31mKeyboardInterrupt\u001b[0m                         Traceback (most recent call last)",
      "\u001b[0;32m<timed exec>\u001b[0m in \u001b[0;36m<module>\u001b[0;34m\u001b[0m\n",
      "\u001b[0;32m~/anaconda3/envs/ds36/lib/python3.6/site-packages/tensorflow_core/python/keras/engine/training.py\u001b[0m in \u001b[0;36mpredict\u001b[0;34m(self, x, batch_size, verbose, steps, callbacks, max_queue_size, workers, use_multiprocessing)\u001b[0m\n\u001b[1;32m   1011\u001b[0m         \u001b[0mmax_queue_size\u001b[0m\u001b[0;34m=\u001b[0m\u001b[0mmax_queue_size\u001b[0m\u001b[0;34m,\u001b[0m\u001b[0;34m\u001b[0m\u001b[0;34m\u001b[0m\u001b[0m\n\u001b[1;32m   1012\u001b[0m         \u001b[0mworkers\u001b[0m\u001b[0;34m=\u001b[0m\u001b[0mworkers\u001b[0m\u001b[0;34m,\u001b[0m\u001b[0;34m\u001b[0m\u001b[0;34m\u001b[0m\u001b[0m\n\u001b[0;32m-> 1013\u001b[0;31m         use_multiprocessing=use_multiprocessing)\n\u001b[0m\u001b[1;32m   1014\u001b[0m \u001b[0;34m\u001b[0m\u001b[0m\n\u001b[1;32m   1015\u001b[0m   \u001b[0;32mdef\u001b[0m \u001b[0mreset_metrics\u001b[0m\u001b[0;34m(\u001b[0m\u001b[0mself\u001b[0m\u001b[0;34m)\u001b[0m\u001b[0;34m:\u001b[0m\u001b[0;34m\u001b[0m\u001b[0;34m\u001b[0m\u001b[0m\n",
      "\u001b[0;32m~/anaconda3/envs/ds36/lib/python3.6/site-packages/tensorflow_core/python/keras/engine/training_v2.py\u001b[0m in \u001b[0;36mpredict\u001b[0;34m(self, model, x, batch_size, verbose, steps, callbacks, max_queue_size, workers, use_multiprocessing, **kwargs)\u001b[0m\n\u001b[1;32m    496\u001b[0m         \u001b[0mmodel\u001b[0m\u001b[0;34m,\u001b[0m \u001b[0mModeKeys\u001b[0m\u001b[0;34m.\u001b[0m\u001b[0mPREDICT\u001b[0m\u001b[0;34m,\u001b[0m \u001b[0mx\u001b[0m\u001b[0;34m=\u001b[0m\u001b[0mx\u001b[0m\u001b[0;34m,\u001b[0m \u001b[0mbatch_size\u001b[0m\u001b[0;34m=\u001b[0m\u001b[0mbatch_size\u001b[0m\u001b[0;34m,\u001b[0m \u001b[0mverbose\u001b[0m\u001b[0;34m=\u001b[0m\u001b[0mverbose\u001b[0m\u001b[0;34m,\u001b[0m\u001b[0;34m\u001b[0m\u001b[0;34m\u001b[0m\u001b[0m\n\u001b[1;32m    497\u001b[0m         \u001b[0msteps\u001b[0m\u001b[0;34m=\u001b[0m\u001b[0msteps\u001b[0m\u001b[0;34m,\u001b[0m \u001b[0mcallbacks\u001b[0m\u001b[0;34m=\u001b[0m\u001b[0mcallbacks\u001b[0m\u001b[0;34m,\u001b[0m \u001b[0mmax_queue_size\u001b[0m\u001b[0;34m=\u001b[0m\u001b[0mmax_queue_size\u001b[0m\u001b[0;34m,\u001b[0m\u001b[0;34m\u001b[0m\u001b[0;34m\u001b[0m\u001b[0m\n\u001b[0;32m--> 498\u001b[0;31m         workers=workers, use_multiprocessing=use_multiprocessing, **kwargs)\n\u001b[0m\u001b[1;32m    499\u001b[0m \u001b[0;34m\u001b[0m\u001b[0m\n\u001b[1;32m    500\u001b[0m \u001b[0;34m\u001b[0m\u001b[0m\n",
      "\u001b[0;32m~/anaconda3/envs/ds36/lib/python3.6/site-packages/tensorflow_core/python/keras/engine/training_v2.py\u001b[0m in \u001b[0;36m_model_iteration\u001b[0;34m(self, model, mode, x, y, batch_size, verbose, sample_weight, steps, callbacks, max_queue_size, workers, use_multiprocessing, **kwargs)\u001b[0m\n\u001b[1;32m    473\u001b[0m               \u001b[0mmode\u001b[0m\u001b[0;34m=\u001b[0m\u001b[0mmode\u001b[0m\u001b[0;34m,\u001b[0m\u001b[0;34m\u001b[0m\u001b[0;34m\u001b[0m\u001b[0m\n\u001b[1;32m    474\u001b[0m               \u001b[0mtraining_context\u001b[0m\u001b[0;34m=\u001b[0m\u001b[0mtraining_context\u001b[0m\u001b[0;34m,\u001b[0m\u001b[0;34m\u001b[0m\u001b[0;34m\u001b[0m\u001b[0m\n\u001b[0;32m--> 475\u001b[0;31m               total_epochs=1)\n\u001b[0m\u001b[1;32m    476\u001b[0m           \u001b[0mcbks\u001b[0m\u001b[0;34m.\u001b[0m\u001b[0mmake_logs\u001b[0m\u001b[0;34m(\u001b[0m\u001b[0mmodel\u001b[0m\u001b[0;34m,\u001b[0m \u001b[0mepoch_logs\u001b[0m\u001b[0;34m,\u001b[0m \u001b[0mresult\u001b[0m\u001b[0;34m,\u001b[0m \u001b[0mmode\u001b[0m\u001b[0;34m)\u001b[0m\u001b[0;34m\u001b[0m\u001b[0;34m\u001b[0m\u001b[0m\n\u001b[1;32m    477\u001b[0m \u001b[0;34m\u001b[0m\u001b[0m\n",
      "\u001b[0;32m~/anaconda3/envs/ds36/lib/python3.6/site-packages/tensorflow_core/python/keras/engine/training_v2.py\u001b[0m in \u001b[0;36mrun_one_epoch\u001b[0;34m(model, iterator, execution_function, dataset_size, batch_size, strategy, steps_per_epoch, num_samples, mode, training_context, total_epochs)\u001b[0m\n\u001b[1;32m    126\u001b[0m         step=step, mode=mode, size=current_batch_size) as batch_logs:\n\u001b[1;32m    127\u001b[0m       \u001b[0;32mtry\u001b[0m\u001b[0;34m:\u001b[0m\u001b[0;34m\u001b[0m\u001b[0;34m\u001b[0m\u001b[0m\n\u001b[0;32m--> 128\u001b[0;31m         \u001b[0mbatch_outs\u001b[0m \u001b[0;34m=\u001b[0m \u001b[0mexecution_function\u001b[0m\u001b[0;34m(\u001b[0m\u001b[0miterator\u001b[0m\u001b[0;34m)\u001b[0m\u001b[0;34m\u001b[0m\u001b[0;34m\u001b[0m\u001b[0m\n\u001b[0m\u001b[1;32m    129\u001b[0m       \u001b[0;32mexcept\u001b[0m \u001b[0;34m(\u001b[0m\u001b[0mStopIteration\u001b[0m\u001b[0;34m,\u001b[0m \u001b[0merrors\u001b[0m\u001b[0;34m.\u001b[0m\u001b[0mOutOfRangeError\u001b[0m\u001b[0;34m)\u001b[0m\u001b[0;34m:\u001b[0m\u001b[0;34m\u001b[0m\u001b[0;34m\u001b[0m\u001b[0m\n\u001b[1;32m    130\u001b[0m         \u001b[0;31m# TODO(kaftan): File bug about tf function and errors.OutOfRangeError?\u001b[0m\u001b[0;34m\u001b[0m\u001b[0;34m\u001b[0m\u001b[0;34m\u001b[0m\u001b[0m\n",
      "\u001b[0;32m~/anaconda3/envs/ds36/lib/python3.6/site-packages/tensorflow_core/python/keras/engine/training_v2_utils.py\u001b[0m in \u001b[0;36mexecution_function\u001b[0;34m(input_fn)\u001b[0m\n\u001b[1;32m     96\u001b[0m     \u001b[0;31m# `numpy` translates Tensors to values in Eager mode.\u001b[0m\u001b[0;34m\u001b[0m\u001b[0;34m\u001b[0m\u001b[0;34m\u001b[0m\u001b[0m\n\u001b[1;32m     97\u001b[0m     return nest.map_structure(_non_none_constant_value,\n\u001b[0;32m---> 98\u001b[0;31m                               distributed_function(input_fn))\n\u001b[0m\u001b[1;32m     99\u001b[0m \u001b[0;34m\u001b[0m\u001b[0m\n\u001b[1;32m    100\u001b[0m   \u001b[0;32mreturn\u001b[0m \u001b[0mexecution_function\u001b[0m\u001b[0;34m\u001b[0m\u001b[0;34m\u001b[0m\u001b[0m\n",
      "\u001b[0;32m~/anaconda3/envs/ds36/lib/python3.6/site-packages/tensorflow_core/python/eager/def_function.py\u001b[0m in \u001b[0;36m__call__\u001b[0;34m(self, *args, **kwds)\u001b[0m\n\u001b[1;32m    566\u001b[0m         \u001b[0mxla_context\u001b[0m\u001b[0;34m.\u001b[0m\u001b[0mExit\u001b[0m\u001b[0;34m(\u001b[0m\u001b[0;34m)\u001b[0m\u001b[0;34m\u001b[0m\u001b[0;34m\u001b[0m\u001b[0m\n\u001b[1;32m    567\u001b[0m     \u001b[0;32melse\u001b[0m\u001b[0;34m:\u001b[0m\u001b[0;34m\u001b[0m\u001b[0;34m\u001b[0m\u001b[0m\n\u001b[0;32m--> 568\u001b[0;31m       \u001b[0mresult\u001b[0m \u001b[0;34m=\u001b[0m \u001b[0mself\u001b[0m\u001b[0;34m.\u001b[0m\u001b[0m_call\u001b[0m\u001b[0;34m(\u001b[0m\u001b[0;34m*\u001b[0m\u001b[0margs\u001b[0m\u001b[0;34m,\u001b[0m \u001b[0;34m**\u001b[0m\u001b[0mkwds\u001b[0m\u001b[0;34m)\u001b[0m\u001b[0;34m\u001b[0m\u001b[0;34m\u001b[0m\u001b[0m\n\u001b[0m\u001b[1;32m    569\u001b[0m \u001b[0;34m\u001b[0m\u001b[0m\n\u001b[1;32m    570\u001b[0m     \u001b[0;32mif\u001b[0m \u001b[0mtracing_count\u001b[0m \u001b[0;34m==\u001b[0m \u001b[0mself\u001b[0m\u001b[0;34m.\u001b[0m\u001b[0m_get_tracing_count\u001b[0m\u001b[0;34m(\u001b[0m\u001b[0;34m)\u001b[0m\u001b[0;34m:\u001b[0m\u001b[0;34m\u001b[0m\u001b[0;34m\u001b[0m\u001b[0m\n",
      "\u001b[0;32m~/anaconda3/envs/ds36/lib/python3.6/site-packages/tensorflow_core/python/eager/def_function.py\u001b[0m in \u001b[0;36m_call\u001b[0;34m(self, *args, **kwds)\u001b[0m\n\u001b[1;32m    604\u001b[0m       \u001b[0;31m# In this case we have not created variables on the first call. So we can\u001b[0m\u001b[0;34m\u001b[0m\u001b[0;34m\u001b[0m\u001b[0;34m\u001b[0m\u001b[0m\n\u001b[1;32m    605\u001b[0m       \u001b[0;31m# run the first trace but we should fail if variables are created.\u001b[0m\u001b[0;34m\u001b[0m\u001b[0;34m\u001b[0m\u001b[0;34m\u001b[0m\u001b[0m\n\u001b[0;32m--> 606\u001b[0;31m       \u001b[0mresults\u001b[0m \u001b[0;34m=\u001b[0m \u001b[0mself\u001b[0m\u001b[0;34m.\u001b[0m\u001b[0m_stateful_fn\u001b[0m\u001b[0;34m(\u001b[0m\u001b[0;34m*\u001b[0m\u001b[0margs\u001b[0m\u001b[0;34m,\u001b[0m \u001b[0;34m**\u001b[0m\u001b[0mkwds\u001b[0m\u001b[0;34m)\u001b[0m\u001b[0;34m\u001b[0m\u001b[0;34m\u001b[0m\u001b[0m\n\u001b[0m\u001b[1;32m    607\u001b[0m       \u001b[0;32mif\u001b[0m \u001b[0mself\u001b[0m\u001b[0;34m.\u001b[0m\u001b[0m_created_variables\u001b[0m\u001b[0;34m:\u001b[0m\u001b[0;34m\u001b[0m\u001b[0;34m\u001b[0m\u001b[0m\n\u001b[1;32m    608\u001b[0m         raise ValueError(\"Creating variables on a non-first call to a function\"\n",
      "\u001b[0;32m~/anaconda3/envs/ds36/lib/python3.6/site-packages/tensorflow_core/python/eager/function.py\u001b[0m in \u001b[0;36m__call__\u001b[0;34m(self, *args, **kwargs)\u001b[0m\n\u001b[1;32m   2361\u001b[0m     \u001b[0;32mwith\u001b[0m \u001b[0mself\u001b[0m\u001b[0;34m.\u001b[0m\u001b[0m_lock\u001b[0m\u001b[0;34m:\u001b[0m\u001b[0;34m\u001b[0m\u001b[0;34m\u001b[0m\u001b[0m\n\u001b[1;32m   2362\u001b[0m       \u001b[0mgraph_function\u001b[0m\u001b[0;34m,\u001b[0m \u001b[0margs\u001b[0m\u001b[0;34m,\u001b[0m \u001b[0mkwargs\u001b[0m \u001b[0;34m=\u001b[0m \u001b[0mself\u001b[0m\u001b[0;34m.\u001b[0m\u001b[0m_maybe_define_function\u001b[0m\u001b[0;34m(\u001b[0m\u001b[0margs\u001b[0m\u001b[0;34m,\u001b[0m \u001b[0mkwargs\u001b[0m\u001b[0;34m)\u001b[0m\u001b[0;34m\u001b[0m\u001b[0;34m\u001b[0m\u001b[0m\n\u001b[0;32m-> 2363\u001b[0;31m     \u001b[0;32mreturn\u001b[0m \u001b[0mgraph_function\u001b[0m\u001b[0;34m.\u001b[0m\u001b[0m_filtered_call\u001b[0m\u001b[0;34m(\u001b[0m\u001b[0margs\u001b[0m\u001b[0;34m,\u001b[0m \u001b[0mkwargs\u001b[0m\u001b[0;34m)\u001b[0m  \u001b[0;31m# pylint: disable=protected-access\u001b[0m\u001b[0;34m\u001b[0m\u001b[0;34m\u001b[0m\u001b[0m\n\u001b[0m\u001b[1;32m   2364\u001b[0m \u001b[0;34m\u001b[0m\u001b[0m\n\u001b[1;32m   2365\u001b[0m   \u001b[0;34m@\u001b[0m\u001b[0mproperty\u001b[0m\u001b[0;34m\u001b[0m\u001b[0;34m\u001b[0m\u001b[0m\n",
      "\u001b[0;32m~/anaconda3/envs/ds36/lib/python3.6/site-packages/tensorflow_core/python/eager/function.py\u001b[0m in \u001b[0;36m_filtered_call\u001b[0;34m(self, args, kwargs)\u001b[0m\n\u001b[1;32m   1609\u001b[0m          if isinstance(t, (ops.Tensor,\n\u001b[1;32m   1610\u001b[0m                            resource_variable_ops.BaseResourceVariable))),\n\u001b[0;32m-> 1611\u001b[0;31m         self.captured_inputs)\n\u001b[0m\u001b[1;32m   1612\u001b[0m \u001b[0;34m\u001b[0m\u001b[0m\n\u001b[1;32m   1613\u001b[0m   \u001b[0;32mdef\u001b[0m \u001b[0m_call_flat\u001b[0m\u001b[0;34m(\u001b[0m\u001b[0mself\u001b[0m\u001b[0;34m,\u001b[0m \u001b[0margs\u001b[0m\u001b[0;34m,\u001b[0m \u001b[0mcaptured_inputs\u001b[0m\u001b[0;34m,\u001b[0m \u001b[0mcancellation_manager\u001b[0m\u001b[0;34m=\u001b[0m\u001b[0;32mNone\u001b[0m\u001b[0;34m)\u001b[0m\u001b[0;34m:\u001b[0m\u001b[0;34m\u001b[0m\u001b[0;34m\u001b[0m\u001b[0m\n",
      "\u001b[0;32m~/anaconda3/envs/ds36/lib/python3.6/site-packages/tensorflow_core/python/eager/function.py\u001b[0m in \u001b[0;36m_call_flat\u001b[0;34m(self, args, captured_inputs, cancellation_manager)\u001b[0m\n\u001b[1;32m   1690\u001b[0m       \u001b[0;31m# No tape is watching; skip to running the function.\u001b[0m\u001b[0;34m\u001b[0m\u001b[0;34m\u001b[0m\u001b[0;34m\u001b[0m\u001b[0m\n\u001b[1;32m   1691\u001b[0m       return self._build_call_outputs(self._inference_function.call(\n\u001b[0;32m-> 1692\u001b[0;31m           ctx, args, cancellation_manager=cancellation_manager))\n\u001b[0m\u001b[1;32m   1693\u001b[0m     forward_backward = self._select_forward_and_backward_functions(\n\u001b[1;32m   1694\u001b[0m         \u001b[0margs\u001b[0m\u001b[0;34m,\u001b[0m\u001b[0;34m\u001b[0m\u001b[0;34m\u001b[0m\u001b[0m\n",
      "\u001b[0;32m~/anaconda3/envs/ds36/lib/python3.6/site-packages/tensorflow_core/python/eager/function.py\u001b[0m in \u001b[0;36mcall\u001b[0;34m(self, ctx, args, cancellation_manager)\u001b[0m\n\u001b[1;32m    543\u001b[0m               \u001b[0minputs\u001b[0m\u001b[0;34m=\u001b[0m\u001b[0margs\u001b[0m\u001b[0;34m,\u001b[0m\u001b[0;34m\u001b[0m\u001b[0;34m\u001b[0m\u001b[0m\n\u001b[1;32m    544\u001b[0m               \u001b[0mattrs\u001b[0m\u001b[0;34m=\u001b[0m\u001b[0;34m(\u001b[0m\u001b[0;34m\"executor_type\"\u001b[0m\u001b[0;34m,\u001b[0m \u001b[0mexecutor_type\u001b[0m\u001b[0;34m,\u001b[0m \u001b[0;34m\"config_proto\"\u001b[0m\u001b[0;34m,\u001b[0m \u001b[0mconfig\u001b[0m\u001b[0;34m)\u001b[0m\u001b[0;34m,\u001b[0m\u001b[0;34m\u001b[0m\u001b[0;34m\u001b[0m\u001b[0m\n\u001b[0;32m--> 545\u001b[0;31m               ctx=ctx)\n\u001b[0m\u001b[1;32m    546\u001b[0m         \u001b[0;32melse\u001b[0m\u001b[0;34m:\u001b[0m\u001b[0;34m\u001b[0m\u001b[0;34m\u001b[0m\u001b[0m\n\u001b[1;32m    547\u001b[0m           outputs = execute.execute_with_cancellation(\n",
      "\u001b[0;32m~/anaconda3/envs/ds36/lib/python3.6/site-packages/tensorflow_core/python/eager/execute.py\u001b[0m in \u001b[0;36mquick_execute\u001b[0;34m(op_name, num_outputs, inputs, attrs, ctx, name)\u001b[0m\n\u001b[1;32m     59\u001b[0m     tensors = pywrap_tensorflow.TFE_Py_Execute(ctx._handle, device_name,\n\u001b[1;32m     60\u001b[0m                                                \u001b[0mop_name\u001b[0m\u001b[0;34m,\u001b[0m \u001b[0minputs\u001b[0m\u001b[0;34m,\u001b[0m \u001b[0mattrs\u001b[0m\u001b[0;34m,\u001b[0m\u001b[0;34m\u001b[0m\u001b[0;34m\u001b[0m\u001b[0m\n\u001b[0;32m---> 61\u001b[0;31m                                                num_outputs)\n\u001b[0m\u001b[1;32m     62\u001b[0m   \u001b[0;32mexcept\u001b[0m \u001b[0mcore\u001b[0m\u001b[0;34m.\u001b[0m\u001b[0m_NotOkStatusException\u001b[0m \u001b[0;32mas\u001b[0m \u001b[0me\u001b[0m\u001b[0;34m:\u001b[0m\u001b[0;34m\u001b[0m\u001b[0;34m\u001b[0m\u001b[0m\n\u001b[1;32m     63\u001b[0m     \u001b[0;32mif\u001b[0m \u001b[0mname\u001b[0m \u001b[0;32mis\u001b[0m \u001b[0;32mnot\u001b[0m \u001b[0;32mNone\u001b[0m\u001b[0;34m:\u001b[0m\u001b[0;34m\u001b[0m\u001b[0;34m\u001b[0m\u001b[0m\n",
      "\u001b[0;31mKeyboardInterrupt\u001b[0m: "
     ]
    }
   ],
   "source": [
    "%%time\n",
    "# make predictions\n",
    "pred_train = reg_model.predict(x_train_reg, verbose=1)\n",
    "pred_test = reg_model.predict(x_test_reg, verbose=1)"
   ]
  },
  {
   "cell_type": "markdown",
   "metadata": {},
   "source": [
    "### Plotting the model output"
   ]
  },
  {
   "cell_type": "code",
   "execution_count": 94,
   "metadata": {},
   "outputs": [
    {
     "ename": "NameError",
     "evalue": "name 'pred_train' is not defined",
     "output_type": "error",
     "traceback": [
      "\u001b[0;31m---------------------------------------------------------------------------\u001b[0m",
      "\u001b[0;31mNameError\u001b[0m                                 Traceback (most recent call last)",
      "\u001b[0;32m<ipython-input-94-586dad95cf34>\u001b[0m in \u001b[0;36m<module>\u001b[0;34m\u001b[0m\n\u001b[1;32m      1\u001b[0m \u001b[0mfig\u001b[0m \u001b[0;34m=\u001b[0m \u001b[0mplt\u001b[0m\u001b[0;34m.\u001b[0m\u001b[0mfigure\u001b[0m\u001b[0;34m(\u001b[0m\u001b[0mfigsize\u001b[0m\u001b[0;34m=\u001b[0m\u001b[0;34m(\u001b[0m\u001b[0;36m16\u001b[0m\u001b[0;34m,\u001b[0m\u001b[0;36m9\u001b[0m\u001b[0;34m)\u001b[0m\u001b[0;34m)\u001b[0m\u001b[0;34m\u001b[0m\u001b[0;34m\u001b[0m\u001b[0m\n\u001b[1;32m      2\u001b[0m \u001b[0mtrain_line_real\u001b[0m \u001b[0;34m=\u001b[0m \u001b[0mplt\u001b[0m\u001b[0;34m.\u001b[0m\u001b[0mplot\u001b[0m\u001b[0;34m(\u001b[0m\u001b[0mdf_train\u001b[0m\u001b[0;34m.\u001b[0m\u001b[0mindex\u001b[0m\u001b[0;34m[\u001b[0m\u001b[0mn_steps\u001b[0m\u001b[0;34m:\u001b[0m\u001b[0;34m]\u001b[0m\u001b[0;34m,\u001b[0m \u001b[0mdf_train\u001b[0m\u001b[0;34m[\u001b[0m\u001b[0muse_feature\u001b[0m\u001b[0;34m]\u001b[0m\u001b[0;34m[\u001b[0m\u001b[0mn_steps\u001b[0m\u001b[0;34m:\u001b[0m\u001b[0;34m]\u001b[0m\u001b[0;34m,\u001b[0m \u001b[0mcolor\u001b[0m\u001b[0;34m=\u001b[0m\u001b[0;34m\"g\"\u001b[0m\u001b[0;34m,\u001b[0m \u001b[0mlabel\u001b[0m\u001b[0;34m=\u001b[0m\u001b[0;34m\"Real (Training)\"\u001b[0m\u001b[0;34m)\u001b[0m\u001b[0;34m\u001b[0m\u001b[0;34m\u001b[0m\u001b[0m\n\u001b[0;32m----> 3\u001b[0;31m \u001b[0mtrain_line_pred\u001b[0m \u001b[0;34m=\u001b[0m \u001b[0mplt\u001b[0m\u001b[0;34m.\u001b[0m\u001b[0mplot\u001b[0m\u001b[0;34m(\u001b[0m\u001b[0mdf_train\u001b[0m\u001b[0;34m.\u001b[0m\u001b[0mindex\u001b[0m\u001b[0;34m[\u001b[0m\u001b[0mn_steps\u001b[0m\u001b[0;34m:\u001b[0m\u001b[0;34m]\u001b[0m\u001b[0;34m,\u001b[0m \u001b[0mpred_train\u001b[0m\u001b[0;34m[\u001b[0m\u001b[0;34m:\u001b[0m\u001b[0;34m,\u001b[0m \u001b[0;36m0\u001b[0m\u001b[0;34m]\u001b[0m\u001b[0;34m,\u001b[0m \u001b[0mcolor\u001b[0m\u001b[0;34m=\u001b[0m\u001b[0;34m\"r\"\u001b[0m\u001b[0;34m,\u001b[0m \u001b[0mlabel\u001b[0m\u001b[0;34m=\u001b[0m\u001b[0;34m\"Predict (Training)\"\u001b[0m\u001b[0;34m)\u001b[0m\u001b[0;34m\u001b[0m\u001b[0;34m\u001b[0m\u001b[0m\n\u001b[0m\u001b[1;32m      4\u001b[0m \u001b[0mplt\u001b[0m\u001b[0;34m.\u001b[0m\u001b[0mlegend\u001b[0m\u001b[0;34m(\u001b[0m\u001b[0mloc\u001b[0m\u001b[0;34m=\u001b[0m\u001b[0;34m\"best\"\u001b[0m\u001b[0;34m,\u001b[0m \u001b[0mfontsize\u001b[0m\u001b[0;34m=\u001b[0m\u001b[0;36m15\u001b[0m\u001b[0;34m)\u001b[0m\u001b[0;34m\u001b[0m\u001b[0;34m\u001b[0m\u001b[0m\n\u001b[1;32m      5\u001b[0m \u001b[0mplt\u001b[0m\u001b[0;34m.\u001b[0m\u001b[0mtitle\u001b[0m\u001b[0;34m(\u001b[0m\u001b[0;34m'Real vs Predict (Training)'\u001b[0m\u001b[0;34m,\u001b[0m \u001b[0mfontsize\u001b[0m\u001b[0;34m=\u001b[0m\u001b[0;36m20\u001b[0m\u001b[0;34m)\u001b[0m\u001b[0;34m\u001b[0m\u001b[0;34m\u001b[0m\u001b[0m\n",
      "\u001b[0;31mNameError\u001b[0m: name 'pred_train' is not defined"
     ]
    },
    {
     "data": {
      "image/png": "[encoded data removed]",
      "text/plain": [
       "<Figure size 1152x648 with 1 Axes>"
      ]
     },
     "metadata": {
      "needs_background": "light"
     },
     "output_type": "display_data"
    }
   ],
   "source": [
    "fig = plt.figure(figsize=(16,9))\n",
    "train_line_real = plt.plot(df_train.index[n_steps:], df_train[use_feature][n_steps:], color=\"g\", label=\"Real (Training)\")\n",
    "train_line_pred = plt.plot(df_train.index[n_steps:], pred_train[:, 0], color=\"r\", label=\"Predict (Training)\")\n",
    "plt.legend(loc=\"best\", fontsize=15)\n",
    "plt.title('Real vs Predict (Training)', fontsize=20)\n",
    "plt.xlabel('Time', fontsize=20)\n",
    "plt.ylabel('Data', fontsize=20)\n",
    "\n",
    "\n",
    "fig = plt.figure(figsize=(16,9))\n",
    "test_line_real = plt.plot(df_test.index[n_steps:], df_test[use_feature][n_steps:], color=\"c\", label=\"Real (Testing)\")\n",
    "test_line_pred = plt.plot(df_test.index[n_steps:], pred_test[:, 0], color=\"m\", label=\"Predict (Testing)\")\n",
    "plt.legend(loc=\"best\", fontsize=15)\n",
    "plt.title('Real vs Predict (Testing)', fontsize=20)\n",
    "plt.xlabel('Time', fontsize=20)\n",
    "plt.ylabel('Data', fontsize=20)\n",
    "\n",
    "plt.show()"
   ]
  },
  {
   "cell_type": "code",
   "execution_count": null,
   "metadata": {
    "collapsed": true
   },
   "outputs": [],
   "source": [
    "from sklearn.metrics import mean_squared_error"
   ]
  },
  {
   "cell_type": "code",
   "execution_count": null,
   "metadata": {},
   "outputs": [],
   "source": [
    "# calculate root mean squared error\n",
    "MSE_train = mean_squared_error(df_train[use_feature][n_steps:], pred_train[:, 0])\n",
    "print(MSE_train)\n",
    "MSE_test = mean_squared_error(df_test[use_feature][n_steps:], pred_test[:, 0])\n",
    "print(MSE_test)"
   ]
  }
 ],
 "metadata": {
  "kernelspec": {
   "display_name": "Python 3",
   "language": "python",
   "name": "python3"
  },
  "language_info": {
   "codemirror_mode": {
    "name": "ipython",
    "version": 3
   },
   "file_extension": ".py",
   "mimetype": "text/x-python",
   "name": "python",
   "nbconvert_exporter": "python",
   "pygments_lexer": "ipython3",
   "version": "3.6.10"
  }
 },
 "nbformat": 4,
 "nbformat_minor": 2
}
